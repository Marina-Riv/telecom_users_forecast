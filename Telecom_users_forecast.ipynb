{
 "cells": [
  {
   "cell_type": "markdown",
   "id": "2d993ee6",
   "metadata": {},
   "source": [
    "## Introducción\n",
    "\n",
    "Al operador de telecomunicaciones Interconnect le gustaría poder pronosticar su tasa de cancelación de clientes. Si se descubre que un usuario o usuaria planea irse, se le ofrecerán códigos promocionales y opciones de planes especiales. El equipo de marketing de Interconnect ha recopilado algunos de los datos personales de sus clientes, incluyendo información sobre sus planes y contratos.\n",
    "\n",
    "### Servicios de Interconnect\n",
    "\n",
    "Interconnect proporciona principalmente dos tipos de servicios:\n",
    "\n",
    "1. Comunicación por teléfono fijo. El teléfono se puede conectar a varias líneas de manera simultánea.\n",
    "2. Internet. La red se puede configurar a través de una línea telefónica (DSL, *línea de abonado digital*) o a través de un cable de fibra óptica.\n",
    "\n",
    "Algunos otros servicios que ofrece la empresa incluyen:\n",
    "\n",
    "- Seguridad en Internet: software antivirus (*ProtecciónDeDispositivo*) y un bloqueador de sitios web maliciosos (*SeguridadEnLínea*).\n",
    "- Una línea de soporte técnico (*SoporteTécnico*).\n",
    "- Almacenamiento de archivos en la nube y backup de datos (*BackupOnline*).\n",
    "- Streaming de TV (*StreamingTV*) y directorio de películas (*StreamingPelículas*)\n",
    "\n",
    "La clientela puede elegir entre un pago mensual o firmar un contrato de 1 o 2 años. Puede utilizar varios métodos de pago y recibir una factura electrónica después de una transacción.\n",
    "\n",
    "### Descripción de los datos\n",
    "\n",
    "Los datos consisten en archivos obtenidos de diferentes fuentes:\n",
    "\n",
    "- `contract.csv` — información del contrato;\n",
    "- `personal.csv` — datos personales del cliente;\n",
    "- `internet.csv` — información sobre los servicios de Internet;\n",
    "- `phone.csv` — información sobre los servicios telefónicos.\n",
    "\n",
    "En cada archivo, la columna `customerID` (ID de cliente) contiene un código único asignado a cada cliente. La información del contrato es válida a partir del 1 de febrero de 2020."
   ]
  },
  {
   "cell_type": "markdown",
   "id": "f36149b6",
   "metadata": {},
   "source": [
    "## Inicialización"
   ]
  },
  {
   "cell_type": "code",
   "execution_count": 98,
   "id": "170779b5",
   "metadata": {},
   "outputs": [],
   "source": [
    "#Cargar las librerías \n",
    "# Librerías estándar de Python\n",
    "import math as mt\n",
    "\n",
    "# Librerías de terceros\n",
    "import matplotlib.pyplot as plt\n",
    "import nltk\n",
    "import numpy as np\n",
    "import pandas as pd\n",
    "import seaborn as sns\n",
    "from scipy import stats as st\n",
    "from fancyimpute import IterativeImputer\n",
    "from lightgbm import LGBMRegressor\n",
    "from sklearn.compose import ColumnTransformer\n",
    "from sklearn.decomposition import PCA\n",
    "from sklearn.ensemble import (\n",
    "    GradientBoostingRegressor,\n",
    "    RandomForestClassifier,\n",
    "    RandomForestRegressor,\n",
    ")\n",
    "from sklearn.feature_extraction.text import TfidfVectorizer\n",
    "from sklearn.impute import KNNImputer, SimpleImputer\n",
    "from sklearn.linear_model import LogisticRegression\n",
    "from sklearn.metrics import (\n",
    "    accuracy_score,\n",
    "    classification_report,\n",
    "    f1_score,\n",
    "    mean_squared_error,\n",
    "    precision_score,\n",
    "    recall_score,\n",
    "    roc_auc_score,\n",
    "    roc_curve,\n",
    "    r2_score,\n",
    ")\n",
    "from sklearn.model_selection import GridSearchCV, train_test_split\n",
    "from sklearn.pipeline import Pipeline\n",
    "from sklearn.preprocessing import (\n",
    "    OneHotEncoder,\n",
    "    OrdinalEncoder,\n",
    "    StandardScaler,\n",
    ")\n",
    "from sklearn.tree import DecisionTreeRegressor\n",
    "from statsmodels.tsa.seasonal import seasonal_decompose\n",
    "from xgboost import XGBClassifier\n",
    "from catboost import CatBoostRegressor\n"
   ]
  },
  {
   "cell_type": "markdown",
   "id": "5163f6fb",
   "metadata": {},
   "source": [
    "## Cargar datos"
   ]
  },
  {
   "cell_type": "code",
   "execution_count": 2,
   "id": "eaf7bae6",
   "metadata": {},
   "outputs": [],
   "source": [
    "internet = pd.read_csv(\"final_provider/final_provider/internet.csv\")\n",
    "contract = pd.read_csv(\"final_provider/final_provider/contract.csv\")\n",
    "personal = pd.read_csv(\"final_provider/final_provider/personal.csv\")\n",
    "phone = pd.read_csv(\"final_provider/final_provider/phone.csv\")"
   ]
  },
  {
   "cell_type": "markdown",
   "id": "d87da9a3",
   "metadata": {},
   "source": [
    "## Preprocesamiento y EDA"
   ]
  },
  {
   "cell_type": "markdown",
   "id": "c8ba212a",
   "metadata": {},
   "source": [
    "#### Internet "
   ]
  },
  {
   "cell_type": "code",
   "execution_count": 3,
   "id": "f56e57f2",
   "metadata": {},
   "outputs": [
    {
     "name": "stdout",
     "output_type": "stream",
     "text": [
      "<class 'pandas.core.frame.DataFrame'>\n",
      "RangeIndex: 5517 entries, 0 to 5516\n",
      "Data columns (total 8 columns):\n",
      " #   Column            Non-Null Count  Dtype \n",
      "---  ------            --------------  ----- \n",
      " 0   customerID        5517 non-null   object\n",
      " 1   InternetService   5517 non-null   object\n",
      " 2   OnlineSecurity    5517 non-null   object\n",
      " 3   OnlineBackup      5517 non-null   object\n",
      " 4   DeviceProtection  5517 non-null   object\n",
      " 5   TechSupport       5517 non-null   object\n",
      " 6   StreamingTV       5517 non-null   object\n",
      " 7   StreamingMovies   5517 non-null   object\n",
      "dtypes: object(8)\n",
      "memory usage: 344.9+ KB\n"
     ]
    }
   ],
   "source": [
    "#Revisar la cantidad de datos, su formato y si hay columnas con valores ausentes\n",
    "internet.info()"
   ]
  },
  {
   "cell_type": "code",
   "execution_count": 4,
   "id": "4b6bae18",
   "metadata": {
    "scrolled": true
   },
   "outputs": [
    {
     "data": {
      "text/html": [
       "<div>\n",
       "<style scoped>\n",
       "    .dataframe tbody tr th:only-of-type {\n",
       "        vertical-align: middle;\n",
       "    }\n",
       "\n",
       "    .dataframe tbody tr th {\n",
       "        vertical-align: top;\n",
       "    }\n",
       "\n",
       "    .dataframe thead th {\n",
       "        text-align: right;\n",
       "    }\n",
       "</style>\n",
       "<table border=\"1\" class=\"dataframe\">\n",
       "  <thead>\n",
       "    <tr style=\"text-align: right;\">\n",
       "      <th></th>\n",
       "      <th>customerID</th>\n",
       "      <th>InternetService</th>\n",
       "      <th>OnlineSecurity</th>\n",
       "      <th>OnlineBackup</th>\n",
       "      <th>DeviceProtection</th>\n",
       "      <th>TechSupport</th>\n",
       "      <th>StreamingTV</th>\n",
       "      <th>StreamingMovies</th>\n",
       "    </tr>\n",
       "  </thead>\n",
       "  <tbody>\n",
       "    <tr>\n",
       "      <th>2730</th>\n",
       "      <td>4682-BLBUC</td>\n",
       "      <td>DSL</td>\n",
       "      <td>No</td>\n",
       "      <td>Yes</td>\n",
       "      <td>Yes</td>\n",
       "      <td>Yes</td>\n",
       "      <td>Yes</td>\n",
       "      <td>No</td>\n",
       "    </tr>\n",
       "    <tr>\n",
       "      <th>4071</th>\n",
       "      <td>7668-XCFYV</td>\n",
       "      <td>Fiber optic</td>\n",
       "      <td>No</td>\n",
       "      <td>No</td>\n",
       "      <td>No</td>\n",
       "      <td>No</td>\n",
       "      <td>Yes</td>\n",
       "      <td>Yes</td>\n",
       "    </tr>\n",
       "    <tr>\n",
       "      <th>137</th>\n",
       "      <td>6727-IOTLZ</td>\n",
       "      <td>DSL</td>\n",
       "      <td>No</td>\n",
       "      <td>Yes</td>\n",
       "      <td>Yes</td>\n",
       "      <td>Yes</td>\n",
       "      <td>Yes</td>\n",
       "      <td>Yes</td>\n",
       "    </tr>\n",
       "    <tr>\n",
       "      <th>724</th>\n",
       "      <td>2719-BDAQO</td>\n",
       "      <td>Fiber optic</td>\n",
       "      <td>Yes</td>\n",
       "      <td>No</td>\n",
       "      <td>No</td>\n",
       "      <td>No</td>\n",
       "      <td>Yes</td>\n",
       "      <td>Yes</td>\n",
       "    </tr>\n",
       "    <tr>\n",
       "      <th>3821</th>\n",
       "      <td>1394-SUIUH</td>\n",
       "      <td>Fiber optic</td>\n",
       "      <td>Yes</td>\n",
       "      <td>Yes</td>\n",
       "      <td>No</td>\n",
       "      <td>Yes</td>\n",
       "      <td>No</td>\n",
       "      <td>No</td>\n",
       "    </tr>\n",
       "    <tr>\n",
       "      <th>3724</th>\n",
       "      <td>0018-NYROU</td>\n",
       "      <td>Fiber optic</td>\n",
       "      <td>No</td>\n",
       "      <td>No</td>\n",
       "      <td>No</td>\n",
       "      <td>No</td>\n",
       "      <td>No</td>\n",
       "      <td>No</td>\n",
       "    </tr>\n",
       "    <tr>\n",
       "      <th>1155</th>\n",
       "      <td>5899-OUVKV</td>\n",
       "      <td>Fiber optic</td>\n",
       "      <td>No</td>\n",
       "      <td>Yes</td>\n",
       "      <td>No</td>\n",
       "      <td>No</td>\n",
       "      <td>Yes</td>\n",
       "      <td>Yes</td>\n",
       "    </tr>\n",
       "    <tr>\n",
       "      <th>1463</th>\n",
       "      <td>7054-LGEQW</td>\n",
       "      <td>DSL</td>\n",
       "      <td>No</td>\n",
       "      <td>No</td>\n",
       "      <td>No</td>\n",
       "      <td>No</td>\n",
       "      <td>No</td>\n",
       "      <td>No</td>\n",
       "    </tr>\n",
       "    <tr>\n",
       "      <th>95</th>\n",
       "      <td>5256-SKJGO</td>\n",
       "      <td>DSL</td>\n",
       "      <td>No</td>\n",
       "      <td>Yes</td>\n",
       "      <td>No</td>\n",
       "      <td>Yes</td>\n",
       "      <td>Yes</td>\n",
       "      <td>Yes</td>\n",
       "    </tr>\n",
       "    <tr>\n",
       "      <th>222</th>\n",
       "      <td>3179-GBRWV</td>\n",
       "      <td>DSL</td>\n",
       "      <td>Yes</td>\n",
       "      <td>Yes</td>\n",
       "      <td>No</td>\n",
       "      <td>No</td>\n",
       "      <td>No</td>\n",
       "      <td>Yes</td>\n",
       "    </tr>\n",
       "  </tbody>\n",
       "</table>\n",
       "</div>"
      ],
      "text/plain": [
       "      customerID InternetService OnlineSecurity OnlineBackup DeviceProtection  \\\n",
       "2730  4682-BLBUC             DSL             No          Yes              Yes   \n",
       "4071  7668-XCFYV     Fiber optic             No           No               No   \n",
       "137   6727-IOTLZ             DSL             No          Yes              Yes   \n",
       "724   2719-BDAQO     Fiber optic            Yes           No               No   \n",
       "3821  1394-SUIUH     Fiber optic            Yes          Yes               No   \n",
       "3724  0018-NYROU     Fiber optic             No           No               No   \n",
       "1155  5899-OUVKV     Fiber optic             No          Yes               No   \n",
       "1463  7054-LGEQW             DSL             No           No               No   \n",
       "95    5256-SKJGO             DSL             No          Yes               No   \n",
       "222   3179-GBRWV             DSL            Yes          Yes               No   \n",
       "\n",
       "     TechSupport StreamingTV StreamingMovies  \n",
       "2730         Yes         Yes              No  \n",
       "4071          No         Yes             Yes  \n",
       "137          Yes         Yes             Yes  \n",
       "724           No         Yes             Yes  \n",
       "3821         Yes          No              No  \n",
       "3724          No          No              No  \n",
       "1155          No         Yes             Yes  \n",
       "1463          No          No              No  \n",
       "95           Yes         Yes             Yes  \n",
       "222           No          No             Yes  "
      ]
     },
     "execution_count": 4,
     "metadata": {},
     "output_type": "execute_result"
    }
   ],
   "source": [
    "#Imprimir una muestra de 10 filas para ver la información provista\n",
    "internet.sample(10, random_state=123)"
   ]
  },
  {
   "cell_type": "code",
   "execution_count": 5,
   "id": "b2be5f83",
   "metadata": {},
   "outputs": [],
   "source": [
    "#Crear una función para contabilizar los tipos de valores incluyendo los ausentes\n",
    "def valores_ausentes(column):\n",
    "    return column.value_counts(dropna=False).sort_index()"
   ]
  },
  {
   "cell_type": "code",
   "execution_count": 6,
   "id": "808ed882",
   "metadata": {},
   "outputs": [
    {
     "data": {
      "text/plain": [
       "InternetService\n",
       "DSL            2421\n",
       "Fiber optic    3096\n",
       "Name: count, dtype: int64"
      ]
     },
     "execution_count": 6,
     "metadata": {},
     "output_type": "execute_result"
    }
   ],
   "source": [
    "#Revisar valores ausentes en la columna 'InternetService'\n",
    "valores_ausentes(internet['InternetService'])"
   ]
  },
  {
   "cell_type": "code",
   "execution_count": 7,
   "id": "645b1a6c",
   "metadata": {},
   "outputs": [
    {
     "data": {
      "text/plain": [
       "OnlineSecurity\n",
       "No     3498\n",
       "Yes    2019\n",
       "Name: count, dtype: int64"
      ]
     },
     "execution_count": 7,
     "metadata": {},
     "output_type": "execute_result"
    }
   ],
   "source": [
    "#Revisar valores ausentes en la columna 'OnlineSecurity'\n",
    "valores_ausentes(internet['OnlineSecurity'])"
   ]
  },
  {
   "cell_type": "code",
   "execution_count": 8,
   "id": "e944770a",
   "metadata": {},
   "outputs": [
    {
     "data": {
      "text/plain": [
       "OnlineBackup\n",
       "No     3088\n",
       "Yes    2429\n",
       "Name: count, dtype: int64"
      ]
     },
     "execution_count": 8,
     "metadata": {},
     "output_type": "execute_result"
    }
   ],
   "source": [
    "#Revisar valores ausentes en la columna 'OnlineBackup'\n",
    "valores_ausentes(internet['OnlineBackup'])"
   ]
  },
  {
   "cell_type": "code",
   "execution_count": 9,
   "id": "425a9e0e",
   "metadata": {},
   "outputs": [
    {
     "data": {
      "text/plain": [
       "DeviceProtection\n",
       "No     3095\n",
       "Yes    2422\n",
       "Name: count, dtype: int64"
      ]
     },
     "execution_count": 9,
     "metadata": {},
     "output_type": "execute_result"
    }
   ],
   "source": [
    "#Revisar valores ausentes en la columna 'DeviceProtection'\n",
    "valores_ausentes(internet['DeviceProtection'])"
   ]
  },
  {
   "cell_type": "code",
   "execution_count": 10,
   "id": "76c7fb10",
   "metadata": {},
   "outputs": [
    {
     "data": {
      "text/plain": [
       "TechSupport\n",
       "No     3473\n",
       "Yes    2044\n",
       "Name: count, dtype: int64"
      ]
     },
     "execution_count": 10,
     "metadata": {},
     "output_type": "execute_result"
    }
   ],
   "source": [
    "#Revisar valores ausentes en la columna 'TechSupport'\n",
    "valores_ausentes(internet['TechSupport'])"
   ]
  },
  {
   "cell_type": "code",
   "execution_count": 11,
   "id": "d746d378",
   "metadata": {},
   "outputs": [
    {
     "data": {
      "text/plain": [
       "StreamingTV\n",
       "No     2810\n",
       "Yes    2707\n",
       "Name: count, dtype: int64"
      ]
     },
     "execution_count": 11,
     "metadata": {},
     "output_type": "execute_result"
    }
   ],
   "source": [
    "#Revisar valores ausentes en la columna 'StreamingTV'\n",
    "valores_ausentes(internet['StreamingTV'])"
   ]
  },
  {
   "cell_type": "code",
   "execution_count": 12,
   "id": "84a58e3d",
   "metadata": {},
   "outputs": [
    {
     "data": {
      "text/plain": [
       "StreamingMovies\n",
       "No     2785\n",
       "Yes    2732\n",
       "Name: count, dtype: int64"
      ]
     },
     "execution_count": 12,
     "metadata": {},
     "output_type": "execute_result"
    }
   ],
   "source": [
    "#Revisar valores ausentes en la columna 'StreamingMovies'\n",
    "valores_ausentes(internet['StreamingMovies'])"
   ]
  },
  {
   "cell_type": "code",
   "execution_count": 13,
   "id": "c434a150",
   "metadata": {},
   "outputs": [
    {
     "data": {
      "text/plain": [
       "0"
      ]
     },
     "execution_count": 13,
     "metadata": {},
     "output_type": "execute_result"
    }
   ],
   "source": [
    "#Revisar los valores duplicados\n",
    "internet.duplicated().sum()"
   ]
  },
  {
   "cell_type": "code",
   "execution_count": 14,
   "id": "057c6105",
   "metadata": {},
   "outputs": [],
   "source": [
    "#Separar las columnas categoricas\n",
    "services_columns= ['OnlineSecurity', 'OnlineBackup', 'DeviceProtection', 'TechSupport', 'StreamingTV', 'StreamingMovies']"
   ]
  },
  {
   "cell_type": "code",
   "execution_count": 15,
   "id": "b28b3547",
   "metadata": {},
   "outputs": [],
   "source": [
    "#Convertir los datos de las columnas en codigo binario y sumar los servicios para crear una sola columna\n",
    "internet[services_columns] = internet[services_columns].replace({'Yes':1, 'No':0})\n",
    "internet['NumOfServices'] = internet[services_columns].sum(axis=1)"
   ]
  },
  {
   "cell_type": "code",
   "execution_count": 16,
   "id": "4edd9630",
   "metadata": {},
   "outputs": [
    {
     "data": {
      "text/html": [
       "<div>\n",
       "<style scoped>\n",
       "    .dataframe tbody tr th:only-of-type {\n",
       "        vertical-align: middle;\n",
       "    }\n",
       "\n",
       "    .dataframe tbody tr th {\n",
       "        vertical-align: top;\n",
       "    }\n",
       "\n",
       "    .dataframe thead th {\n",
       "        text-align: right;\n",
       "    }\n",
       "</style>\n",
       "<table border=\"1\" class=\"dataframe\">\n",
       "  <thead>\n",
       "    <tr style=\"text-align: right;\">\n",
       "      <th></th>\n",
       "      <th>customerID</th>\n",
       "      <th>InternetService</th>\n",
       "      <th>OnlineSecurity</th>\n",
       "      <th>OnlineBackup</th>\n",
       "      <th>DeviceProtection</th>\n",
       "      <th>TechSupport</th>\n",
       "      <th>StreamingTV</th>\n",
       "      <th>StreamingMovies</th>\n",
       "      <th>NumOfServices</th>\n",
       "    </tr>\n",
       "  </thead>\n",
       "  <tbody>\n",
       "    <tr>\n",
       "      <th>2730</th>\n",
       "      <td>4682-BLBUC</td>\n",
       "      <td>DSL</td>\n",
       "      <td>0</td>\n",
       "      <td>1</td>\n",
       "      <td>1</td>\n",
       "      <td>1</td>\n",
       "      <td>1</td>\n",
       "      <td>0</td>\n",
       "      <td>4</td>\n",
       "    </tr>\n",
       "    <tr>\n",
       "      <th>4071</th>\n",
       "      <td>7668-XCFYV</td>\n",
       "      <td>Fiber optic</td>\n",
       "      <td>0</td>\n",
       "      <td>0</td>\n",
       "      <td>0</td>\n",
       "      <td>0</td>\n",
       "      <td>1</td>\n",
       "      <td>1</td>\n",
       "      <td>2</td>\n",
       "    </tr>\n",
       "    <tr>\n",
       "      <th>137</th>\n",
       "      <td>6727-IOTLZ</td>\n",
       "      <td>DSL</td>\n",
       "      <td>0</td>\n",
       "      <td>1</td>\n",
       "      <td>1</td>\n",
       "      <td>1</td>\n",
       "      <td>1</td>\n",
       "      <td>1</td>\n",
       "      <td>5</td>\n",
       "    </tr>\n",
       "    <tr>\n",
       "      <th>724</th>\n",
       "      <td>2719-BDAQO</td>\n",
       "      <td>Fiber optic</td>\n",
       "      <td>1</td>\n",
       "      <td>0</td>\n",
       "      <td>0</td>\n",
       "      <td>0</td>\n",
       "      <td>1</td>\n",
       "      <td>1</td>\n",
       "      <td>3</td>\n",
       "    </tr>\n",
       "    <tr>\n",
       "      <th>3821</th>\n",
       "      <td>1394-SUIUH</td>\n",
       "      <td>Fiber optic</td>\n",
       "      <td>1</td>\n",
       "      <td>1</td>\n",
       "      <td>0</td>\n",
       "      <td>1</td>\n",
       "      <td>0</td>\n",
       "      <td>0</td>\n",
       "      <td>3</td>\n",
       "    </tr>\n",
       "    <tr>\n",
       "      <th>3724</th>\n",
       "      <td>0018-NYROU</td>\n",
       "      <td>Fiber optic</td>\n",
       "      <td>0</td>\n",
       "      <td>0</td>\n",
       "      <td>0</td>\n",
       "      <td>0</td>\n",
       "      <td>0</td>\n",
       "      <td>0</td>\n",
       "      <td>0</td>\n",
       "    </tr>\n",
       "    <tr>\n",
       "      <th>1155</th>\n",
       "      <td>5899-OUVKV</td>\n",
       "      <td>Fiber optic</td>\n",
       "      <td>0</td>\n",
       "      <td>1</td>\n",
       "      <td>0</td>\n",
       "      <td>0</td>\n",
       "      <td>1</td>\n",
       "      <td>1</td>\n",
       "      <td>3</td>\n",
       "    </tr>\n",
       "    <tr>\n",
       "      <th>1463</th>\n",
       "      <td>7054-LGEQW</td>\n",
       "      <td>DSL</td>\n",
       "      <td>0</td>\n",
       "      <td>0</td>\n",
       "      <td>0</td>\n",
       "      <td>0</td>\n",
       "      <td>0</td>\n",
       "      <td>0</td>\n",
       "      <td>0</td>\n",
       "    </tr>\n",
       "    <tr>\n",
       "      <th>95</th>\n",
       "      <td>5256-SKJGO</td>\n",
       "      <td>DSL</td>\n",
       "      <td>0</td>\n",
       "      <td>1</td>\n",
       "      <td>0</td>\n",
       "      <td>1</td>\n",
       "      <td>1</td>\n",
       "      <td>1</td>\n",
       "      <td>4</td>\n",
       "    </tr>\n",
       "    <tr>\n",
       "      <th>222</th>\n",
       "      <td>3179-GBRWV</td>\n",
       "      <td>DSL</td>\n",
       "      <td>1</td>\n",
       "      <td>1</td>\n",
       "      <td>0</td>\n",
       "      <td>0</td>\n",
       "      <td>0</td>\n",
       "      <td>1</td>\n",
       "      <td>3</td>\n",
       "    </tr>\n",
       "  </tbody>\n",
       "</table>\n",
       "</div>"
      ],
      "text/plain": [
       "      customerID InternetService  OnlineSecurity  OnlineBackup  \\\n",
       "2730  4682-BLBUC             DSL               0             1   \n",
       "4071  7668-XCFYV     Fiber optic               0             0   \n",
       "137   6727-IOTLZ             DSL               0             1   \n",
       "724   2719-BDAQO     Fiber optic               1             0   \n",
       "3821  1394-SUIUH     Fiber optic               1             1   \n",
       "3724  0018-NYROU     Fiber optic               0             0   \n",
       "1155  5899-OUVKV     Fiber optic               0             1   \n",
       "1463  7054-LGEQW             DSL               0             0   \n",
       "95    5256-SKJGO             DSL               0             1   \n",
       "222   3179-GBRWV             DSL               1             1   \n",
       "\n",
       "      DeviceProtection  TechSupport  StreamingTV  StreamingMovies  \\\n",
       "2730                 1            1            1                0   \n",
       "4071                 0            0            1                1   \n",
       "137                  1            1            1                1   \n",
       "724                  0            0            1                1   \n",
       "3821                 0            1            0                0   \n",
       "3724                 0            0            0                0   \n",
       "1155                 0            0            1                1   \n",
       "1463                 0            0            0                0   \n",
       "95                   0            1            1                1   \n",
       "222                  0            0            0                1   \n",
       "\n",
       "      NumOfServices  \n",
       "2730              4  \n",
       "4071              2  \n",
       "137               5  \n",
       "724               3  \n",
       "3821              3  \n",
       "3724              0  \n",
       "1155              3  \n",
       "1463              0  \n",
       "95                4  \n",
       "222               3  "
      ]
     },
     "execution_count": 16,
     "metadata": {},
     "output_type": "execute_result"
    }
   ],
   "source": [
    "#Imprimir una muestra del dataframe modificado con la columna agregada de los servicios agregados\n",
    "internet.sample(10, random_state=123)"
   ]
  },
  {
   "cell_type": "code",
   "execution_count": 17,
   "id": "74d4dd13",
   "metadata": {},
   "outputs": [],
   "source": [
    "#Crear un nuevo dataframe solo con las columnas relevantes\n",
    "internet_cut = internet[['customerID', 'InternetService', 'NumOfServices']]"
   ]
  },
  {
   "cell_type": "code",
   "execution_count": 18,
   "id": "6b2873a5",
   "metadata": {},
   "outputs": [
    {
     "data": {
      "text/html": [
       "<div>\n",
       "<style scoped>\n",
       "    .dataframe tbody tr th:only-of-type {\n",
       "        vertical-align: middle;\n",
       "    }\n",
       "\n",
       "    .dataframe tbody tr th {\n",
       "        vertical-align: top;\n",
       "    }\n",
       "\n",
       "    .dataframe thead th {\n",
       "        text-align: right;\n",
       "    }\n",
       "</style>\n",
       "<table border=\"1\" class=\"dataframe\">\n",
       "  <thead>\n",
       "    <tr style=\"text-align: right;\">\n",
       "      <th></th>\n",
       "      <th>customerID</th>\n",
       "      <th>InternetService</th>\n",
       "      <th>NumOfServices</th>\n",
       "    </tr>\n",
       "  </thead>\n",
       "  <tbody>\n",
       "    <tr>\n",
       "      <th>2730</th>\n",
       "      <td>4682-BLBUC</td>\n",
       "      <td>DSL</td>\n",
       "      <td>4</td>\n",
       "    </tr>\n",
       "    <tr>\n",
       "      <th>4071</th>\n",
       "      <td>7668-XCFYV</td>\n",
       "      <td>Fiber optic</td>\n",
       "      <td>2</td>\n",
       "    </tr>\n",
       "    <tr>\n",
       "      <th>137</th>\n",
       "      <td>6727-IOTLZ</td>\n",
       "      <td>DSL</td>\n",
       "      <td>5</td>\n",
       "    </tr>\n",
       "    <tr>\n",
       "      <th>724</th>\n",
       "      <td>2719-BDAQO</td>\n",
       "      <td>Fiber optic</td>\n",
       "      <td>3</td>\n",
       "    </tr>\n",
       "    <tr>\n",
       "      <th>3821</th>\n",
       "      <td>1394-SUIUH</td>\n",
       "      <td>Fiber optic</td>\n",
       "      <td>3</td>\n",
       "    </tr>\n",
       "    <tr>\n",
       "      <th>3724</th>\n",
       "      <td>0018-NYROU</td>\n",
       "      <td>Fiber optic</td>\n",
       "      <td>0</td>\n",
       "    </tr>\n",
       "    <tr>\n",
       "      <th>1155</th>\n",
       "      <td>5899-OUVKV</td>\n",
       "      <td>Fiber optic</td>\n",
       "      <td>3</td>\n",
       "    </tr>\n",
       "    <tr>\n",
       "      <th>1463</th>\n",
       "      <td>7054-LGEQW</td>\n",
       "      <td>DSL</td>\n",
       "      <td>0</td>\n",
       "    </tr>\n",
       "    <tr>\n",
       "      <th>95</th>\n",
       "      <td>5256-SKJGO</td>\n",
       "      <td>DSL</td>\n",
       "      <td>4</td>\n",
       "    </tr>\n",
       "    <tr>\n",
       "      <th>222</th>\n",
       "      <td>3179-GBRWV</td>\n",
       "      <td>DSL</td>\n",
       "      <td>3</td>\n",
       "    </tr>\n",
       "  </tbody>\n",
       "</table>\n",
       "</div>"
      ],
      "text/plain": [
       "      customerID InternetService  NumOfServices\n",
       "2730  4682-BLBUC             DSL              4\n",
       "4071  7668-XCFYV     Fiber optic              2\n",
       "137   6727-IOTLZ             DSL              5\n",
       "724   2719-BDAQO     Fiber optic              3\n",
       "3821  1394-SUIUH     Fiber optic              3\n",
       "3724  0018-NYROU     Fiber optic              0\n",
       "1155  5899-OUVKV     Fiber optic              3\n",
       "1463  7054-LGEQW             DSL              0\n",
       "95    5256-SKJGO             DSL              4\n",
       "222   3179-GBRWV             DSL              3"
      ]
     },
     "execution_count": 18,
     "metadata": {},
     "output_type": "execute_result"
    }
   ],
   "source": [
    "#imprimir una muestra del dataframe creado solo con los servicios agregados\n",
    "internet_cut.sample(10, random_state=123)"
   ]
  },
  {
   "cell_type": "markdown",
   "id": "a2e5b748",
   "metadata": {},
   "source": [
    "#### Contract"
   ]
  },
  {
   "cell_type": "code",
   "execution_count": 19,
   "id": "83768cf0",
   "metadata": {},
   "outputs": [
    {
     "name": "stdout",
     "output_type": "stream",
     "text": [
      "<class 'pandas.core.frame.DataFrame'>\n",
      "RangeIndex: 7043 entries, 0 to 7042\n",
      "Data columns (total 8 columns):\n",
      " #   Column            Non-Null Count  Dtype  \n",
      "---  ------            --------------  -----  \n",
      " 0   customerID        7043 non-null   object \n",
      " 1   BeginDate         7043 non-null   object \n",
      " 2   EndDate           7043 non-null   object \n",
      " 3   Type              7043 non-null   object \n",
      " 4   PaperlessBilling  7043 non-null   object \n",
      " 5   PaymentMethod     7043 non-null   object \n",
      " 6   MonthlyCharges    7043 non-null   float64\n",
      " 7   TotalCharges      7043 non-null   object \n",
      "dtypes: float64(1), object(7)\n",
      "memory usage: 440.3+ KB\n"
     ]
    }
   ],
   "source": [
    "#Revisar la cantidad de datos, su formato y si hay columnas con valores ausentes\n",
    "contract.info()"
   ]
  },
  {
   "cell_type": "code",
   "execution_count": 20,
   "id": "a6ac7a3d",
   "metadata": {
    "scrolled": true
   },
   "outputs": [
    {
     "data": {
      "text/html": [
       "<div>\n",
       "<style scoped>\n",
       "    .dataframe tbody tr th:only-of-type {\n",
       "        vertical-align: middle;\n",
       "    }\n",
       "\n",
       "    .dataframe tbody tr th {\n",
       "        vertical-align: top;\n",
       "    }\n",
       "\n",
       "    .dataframe thead th {\n",
       "        text-align: right;\n",
       "    }\n",
       "</style>\n",
       "<table border=\"1\" class=\"dataframe\">\n",
       "  <thead>\n",
       "    <tr style=\"text-align: right;\">\n",
       "      <th></th>\n",
       "      <th>customerID</th>\n",
       "      <th>BeginDate</th>\n",
       "      <th>EndDate</th>\n",
       "      <th>Type</th>\n",
       "      <th>PaperlessBilling</th>\n",
       "      <th>PaymentMethod</th>\n",
       "      <th>MonthlyCharges</th>\n",
       "      <th>TotalCharges</th>\n",
       "    </tr>\n",
       "  </thead>\n",
       "  <tbody>\n",
       "    <tr>\n",
       "      <th>941</th>\n",
       "      <td>0811-GSDTP</td>\n",
       "      <td>2019-01-01</td>\n",
       "      <td>No</td>\n",
       "      <td>Month-to-month</td>\n",
       "      <td>No</td>\n",
       "      <td>Electronic check</td>\n",
       "      <td>30.15</td>\n",
       "      <td>382.2</td>\n",
       "    </tr>\n",
       "    <tr>\n",
       "      <th>1404</th>\n",
       "      <td>1970-KKFWL</td>\n",
       "      <td>2017-03-01</td>\n",
       "      <td>No</td>\n",
       "      <td>Two year</td>\n",
       "      <td>No</td>\n",
       "      <td>Bank transfer (automatic)</td>\n",
       "      <td>23.30</td>\n",
       "      <td>797.1</td>\n",
       "    </tr>\n",
       "    <tr>\n",
       "      <th>5515</th>\n",
       "      <td>2892-GESUL</td>\n",
       "      <td>2018-08-01</td>\n",
       "      <td>No</td>\n",
       "      <td>Two year</td>\n",
       "      <td>No</td>\n",
       "      <td>Mailed check</td>\n",
       "      <td>19.35</td>\n",
       "      <td>309.25</td>\n",
       "    </tr>\n",
       "    <tr>\n",
       "      <th>3684</th>\n",
       "      <td>2842-BCQGE</td>\n",
       "      <td>2016-07-01</td>\n",
       "      <td>No</td>\n",
       "      <td>Month-to-month</td>\n",
       "      <td>Yes</td>\n",
       "      <td>Credit card (automatic)</td>\n",
       "      <td>75.35</td>\n",
       "      <td>3161.4</td>\n",
       "    </tr>\n",
       "    <tr>\n",
       "      <th>7017</th>\n",
       "      <td>4807-IZYOZ</td>\n",
       "      <td>2015-11-01</td>\n",
       "      <td>No</td>\n",
       "      <td>Two year</td>\n",
       "      <td>No</td>\n",
       "      <td>Bank transfer (automatic)</td>\n",
       "      <td>20.65</td>\n",
       "      <td>1020.75</td>\n",
       "    </tr>\n",
       "    <tr>\n",
       "      <th>3643</th>\n",
       "      <td>9451-WLYRI</td>\n",
       "      <td>2015-09-01</td>\n",
       "      <td>No</td>\n",
       "      <td>One year</td>\n",
       "      <td>No</td>\n",
       "      <td>Credit card (automatic)</td>\n",
       "      <td>19.05</td>\n",
       "      <td>990.45</td>\n",
       "    </tr>\n",
       "    <tr>\n",
       "      <th>3846</th>\n",
       "      <td>1767-TGTKO</td>\n",
       "      <td>2019-06-01</td>\n",
       "      <td>No</td>\n",
       "      <td>Month-to-month</td>\n",
       "      <td>Yes</td>\n",
       "      <td>Electronic check</td>\n",
       "      <td>45.45</td>\n",
       "      <td>411.75</td>\n",
       "    </tr>\n",
       "    <tr>\n",
       "      <th>6185</th>\n",
       "      <td>8033-VCZGH</td>\n",
       "      <td>2015-12-01</td>\n",
       "      <td>No</td>\n",
       "      <td>One year</td>\n",
       "      <td>Yes</td>\n",
       "      <td>Electronic check</td>\n",
       "      <td>103.95</td>\n",
       "      <td>5231.3</td>\n",
       "    </tr>\n",
       "    <tr>\n",
       "      <th>613</th>\n",
       "      <td>6689-VRRTK</td>\n",
       "      <td>2016-06-01</td>\n",
       "      <td>No</td>\n",
       "      <td>One year</td>\n",
       "      <td>Yes</td>\n",
       "      <td>Credit card (automatic)</td>\n",
       "      <td>109.80</td>\n",
       "      <td>4860.35</td>\n",
       "    </tr>\n",
       "    <tr>\n",
       "      <th>2680</th>\n",
       "      <td>6997-UVGOX</td>\n",
       "      <td>2014-03-01</td>\n",
       "      <td>No</td>\n",
       "      <td>Two year</td>\n",
       "      <td>No</td>\n",
       "      <td>Bank transfer (automatic)</td>\n",
       "      <td>85.45</td>\n",
       "      <td>6029.9</td>\n",
       "    </tr>\n",
       "  </tbody>\n",
       "</table>\n",
       "</div>"
      ],
      "text/plain": [
       "      customerID   BeginDate EndDate            Type PaperlessBilling  \\\n",
       "941   0811-GSDTP  2019-01-01      No  Month-to-month               No   \n",
       "1404  1970-KKFWL  2017-03-01      No        Two year               No   \n",
       "5515  2892-GESUL  2018-08-01      No        Two year               No   \n",
       "3684  2842-BCQGE  2016-07-01      No  Month-to-month              Yes   \n",
       "7017  4807-IZYOZ  2015-11-01      No        Two year               No   \n",
       "3643  9451-WLYRI  2015-09-01      No        One year               No   \n",
       "3846  1767-TGTKO  2019-06-01      No  Month-to-month              Yes   \n",
       "6185  8033-VCZGH  2015-12-01      No        One year              Yes   \n",
       "613   6689-VRRTK  2016-06-01      No        One year              Yes   \n",
       "2680  6997-UVGOX  2014-03-01      No        Two year               No   \n",
       "\n",
       "                  PaymentMethod  MonthlyCharges TotalCharges  \n",
       "941            Electronic check           30.15        382.2  \n",
       "1404  Bank transfer (automatic)           23.30        797.1  \n",
       "5515               Mailed check           19.35       309.25  \n",
       "3684    Credit card (automatic)           75.35       3161.4  \n",
       "7017  Bank transfer (automatic)           20.65      1020.75  \n",
       "3643    Credit card (automatic)           19.05       990.45  \n",
       "3846           Electronic check           45.45       411.75  \n",
       "6185           Electronic check          103.95       5231.3  \n",
       "613     Credit card (automatic)          109.80      4860.35  \n",
       "2680  Bank transfer (automatic)           85.45       6029.9  "
      ]
     },
     "execution_count": 20,
     "metadata": {},
     "output_type": "execute_result"
    }
   ],
   "source": [
    "#Imprimir una muestra de 10 filas del dataframe contract para ver la información que contiene\n",
    "contract.sample(10, random_state=123)"
   ]
  },
  {
   "cell_type": "code",
   "execution_count": 21,
   "id": "acef5e5e",
   "metadata": {},
   "outputs": [
    {
     "data": {
      "text/plain": [
       "customerID          0\n",
       "BeginDate           0\n",
       "EndDate             0\n",
       "Type                0\n",
       "PaperlessBilling    0\n",
       "PaymentMethod       0\n",
       "MonthlyCharges      0\n",
       "TotalCharges        0\n",
       "dtype: int64"
      ]
     },
     "execution_count": 21,
     "metadata": {},
     "output_type": "execute_result"
    }
   ],
   "source": [
    "#Revisar los valores ausentes del dataframe contract\n",
    "contract.isna().sum()"
   ]
  },
  {
   "cell_type": "code",
   "execution_count": 22,
   "id": "83692e05",
   "metadata": {},
   "outputs": [
    {
     "data": {
      "text/plain": [
       "BeginDate\n",
       "2013-10-01      3\n",
       "2013-11-01      2\n",
       "2013-12-01      3\n",
       "2014-01-01      7\n",
       "2014-02-01    366\n",
       "             ... \n",
       "2019-10-01    237\n",
       "2019-11-01    237\n",
       "2019-12-01    220\n",
       "2020-01-01    233\n",
       "2020-02-01     11\n",
       "Name: count, Length: 77, dtype: int64"
      ]
     },
     "execution_count": 22,
     "metadata": {},
     "output_type": "execute_result"
    }
   ],
   "source": [
    "#Revisar los valores ausentes de la columna 'BeginDate'\n",
    "valores_ausentes(contract['BeginDate'])"
   ]
  },
  {
   "cell_type": "code",
   "execution_count": 23,
   "id": "ce35804f",
   "metadata": {},
   "outputs": [
    {
     "data": {
      "text/plain": [
       "EndDate\n",
       "2019-10-01 00:00:00     458\n",
       "2019-11-01 00:00:00     485\n",
       "2019-12-01 00:00:00     466\n",
       "2020-01-01 00:00:00     460\n",
       "No                     5174\n",
       "Name: count, dtype: int64"
      ]
     },
     "execution_count": 23,
     "metadata": {},
     "output_type": "execute_result"
    }
   ],
   "source": [
    "#Revisar los valores ausentes de la columna 'EndDate'\n",
    "valores_ausentes(contract['EndDate'])"
   ]
  },
  {
   "cell_type": "code",
   "execution_count": 24,
   "id": "5eea0583",
   "metadata": {},
   "outputs": [
    {
     "data": {
      "text/plain": [
       "Type\n",
       "Month-to-month    3875\n",
       "One year          1473\n",
       "Two year          1695\n",
       "Name: count, dtype: int64"
      ]
     },
     "execution_count": 24,
     "metadata": {},
     "output_type": "execute_result"
    }
   ],
   "source": [
    "#Revisar los valores ausentes de la columna 'Type'\n",
    "valores_ausentes(contract['Type'])"
   ]
  },
  {
   "cell_type": "code",
   "execution_count": 25,
   "id": "75816060",
   "metadata": {},
   "outputs": [
    {
     "data": {
      "text/plain": [
       "PaperlessBilling\n",
       "No     2872\n",
       "Yes    4171\n",
       "Name: count, dtype: int64"
      ]
     },
     "execution_count": 25,
     "metadata": {},
     "output_type": "execute_result"
    }
   ],
   "source": [
    "#Revisar los valores ausentes de la columna 'PaperlessBilling'\n",
    "valores_ausentes(contract['PaperlessBilling'])"
   ]
  },
  {
   "cell_type": "code",
   "execution_count": 26,
   "id": "a94579e2",
   "metadata": {},
   "outputs": [
    {
     "data": {
      "text/plain": [
       "PaymentMethod\n",
       "Bank transfer (automatic)    1544\n",
       "Credit card (automatic)      1522\n",
       "Electronic check             2365\n",
       "Mailed check                 1612\n",
       "Name: count, dtype: int64"
      ]
     },
     "execution_count": 26,
     "metadata": {},
     "output_type": "execute_result"
    }
   ],
   "source": [
    "#Revisar los valores ausentes de la columna 'PaymentMethod'\n",
    "valores_ausentes(contract['PaymentMethod'])"
   ]
  },
  {
   "cell_type": "code",
   "execution_count": 27,
   "id": "238fc39c",
   "metadata": {},
   "outputs": [
    {
     "data": {
      "text/plain": [
       "MonthlyCharges\n",
       "18.25     1\n",
       "18.40     1\n",
       "18.55     1\n",
       "18.70     2\n",
       "18.75     1\n",
       "         ..\n",
       "118.20    1\n",
       "118.35    1\n",
       "118.60    2\n",
       "118.65    1\n",
       "118.75    1\n",
       "Name: count, Length: 1585, dtype: int64"
      ]
     },
     "execution_count": 27,
     "metadata": {},
     "output_type": "execute_result"
    }
   ],
   "source": [
    "#Revisar los valores ausentes de la columna 'MonthlyCharges'\n",
    "valores_ausentes(contract['MonthlyCharges'])"
   ]
  },
  {
   "cell_type": "code",
   "execution_count": 28,
   "id": "7dafad56",
   "metadata": {},
   "outputs": [
    {
     "data": {
      "text/plain": [
       "count    7043.000000\n",
       "mean       64.761692\n",
       "std        30.090047\n",
       "min        18.250000\n",
       "25%        35.500000\n",
       "50%        70.350000\n",
       "75%        89.850000\n",
       "max       118.750000\n",
       "Name: MonthlyCharges, dtype: float64"
      ]
     },
     "execution_count": 28,
     "metadata": {},
     "output_type": "execute_result"
    }
   ],
   "source": [
    "#Describir los valores de la columna 'MonthlyCharges'\n",
    "contract['MonthlyCharges'].describe()"
   ]
  },
  {
   "cell_type": "code",
   "execution_count": 29,
   "id": "2ad306d1",
   "metadata": {},
   "outputs": [
    {
     "data": {
      "text/plain": [
       "TotalCharges\n",
       "          11\n",
       "100.2      1\n",
       "100.25     1\n",
       "100.35     1\n",
       "100.4      1\n",
       "          ..\n",
       "997.75     1\n",
       "998.1      1\n",
       "999.45     1\n",
       "999.8      1\n",
       "999.9      1\n",
       "Name: count, Length: 6531, dtype: int64"
      ]
     },
     "execution_count": 29,
     "metadata": {},
     "output_type": "execute_result"
    }
   ],
   "source": [
    "#Revisar los valores ausentes de la columna 'TotalCharges'\n",
    "valores_ausentes(contract['TotalCharges'])"
   ]
  },
  {
   "cell_type": "code",
   "execution_count": 30,
   "id": "af06bf2a",
   "metadata": {},
   "outputs": [
    {
     "name": "stdout",
     "output_type": "stream",
     "text": [
      "TotalCharges\n",
      "18.80       1\n",
      "18.85       2\n",
      "18.90       1\n",
      "19.00       1\n",
      "19.05       1\n",
      "           ..\n",
      "8594.40     1\n",
      "8670.10     1\n",
      "8672.45     1\n",
      "8684.80     1\n",
      "NaN        11\n",
      "Name: count, Length: 6531, dtype: int64\n"
     ]
    }
   ],
   "source": [
    "#Reemplazar los valores ausentes con NaN para poder convertir los valores en tipo numerico o float\n",
    "contract['TotalCharges'] = contract['TotalCharges'].replace([' ', ''], np.nan)\n",
    "contract['TotalCharges'] = pd.to_numeric(contract['TotalCharges'], errors='coerce')\n",
    "print(contract['TotalCharges'].value_counts(dropna=False).sort_index())"
   ]
  },
  {
   "cell_type": "code",
   "execution_count": 31,
   "id": "a2b29503",
   "metadata": {},
   "outputs": [
    {
     "name": "stdout",
     "output_type": "stream",
     "text": [
      "<class 'pandas.core.series.Series'>\n",
      "RangeIndex: 7043 entries, 0 to 7042\n",
      "Series name: TotalCharges\n",
      "Non-Null Count  Dtype  \n",
      "--------------  -----  \n",
      "7032 non-null   float64\n",
      "dtypes: float64(1)\n",
      "memory usage: 55.2 KB\n"
     ]
    }
   ],
   "source": [
    "#Verificar que se haya modificado el tipo de valor (a float)\n",
    "contract['TotalCharges'].info()"
   ]
  },
  {
   "cell_type": "code",
   "execution_count": 32,
   "id": "690afc4e",
   "metadata": {},
   "outputs": [
    {
     "data": {
      "text/plain": [
       "0"
      ]
     },
     "execution_count": 32,
     "metadata": {},
     "output_type": "execute_result"
    }
   ],
   "source": [
    "#Verificar los valores duplicados\n",
    "contract.duplicated().sum()"
   ]
  },
  {
   "cell_type": "code",
   "execution_count": 33,
   "id": "05845e39",
   "metadata": {},
   "outputs": [
    {
     "data": {
      "text/html": [
       "<div>\n",
       "<style scoped>\n",
       "    .dataframe tbody tr th:only-of-type {\n",
       "        vertical-align: middle;\n",
       "    }\n",
       "\n",
       "    .dataframe tbody tr th {\n",
       "        vertical-align: top;\n",
       "    }\n",
       "\n",
       "    .dataframe thead th {\n",
       "        text-align: right;\n",
       "    }\n",
       "</style>\n",
       "<table border=\"1\" class=\"dataframe\">\n",
       "  <thead>\n",
       "    <tr style=\"text-align: right;\">\n",
       "      <th></th>\n",
       "      <th>customerID</th>\n",
       "      <th>BeginDate</th>\n",
       "      <th>EndDate</th>\n",
       "      <th>Type</th>\n",
       "      <th>PaperlessBilling</th>\n",
       "      <th>PaymentMethod</th>\n",
       "      <th>MonthlyCharges</th>\n",
       "      <th>TotalCharges</th>\n",
       "    </tr>\n",
       "  </thead>\n",
       "  <tbody>\n",
       "    <tr>\n",
       "      <th>6235</th>\n",
       "      <td>5180-UCIIQ</td>\n",
       "      <td>2018-03-01</td>\n",
       "      <td>2020-01-01 00:00:00</td>\n",
       "      <td>Month-to-month</td>\n",
       "      <td>No</td>\n",
       "      <td>Mailed check</td>\n",
       "      <td>40.05</td>\n",
       "      <td>880.20</td>\n",
       "    </tr>\n",
       "    <tr>\n",
       "      <th>3980</th>\n",
       "      <td>8868-WOZGU</td>\n",
       "      <td>2017-08-01</td>\n",
       "      <td>2019-12-01 00:00:00</td>\n",
       "      <td>Month-to-month</td>\n",
       "      <td>Yes</td>\n",
       "      <td>Electronic check</td>\n",
       "      <td>105.70</td>\n",
       "      <td>2979.50</td>\n",
       "    </tr>\n",
       "    <tr>\n",
       "      <th>6548</th>\n",
       "      <td>5012-YSPJJ</td>\n",
       "      <td>2017-07-01</td>\n",
       "      <td>No</td>\n",
       "      <td>Month-to-month</td>\n",
       "      <td>No</td>\n",
       "      <td>Mailed check</td>\n",
       "      <td>54.35</td>\n",
       "      <td>1647.00</td>\n",
       "    </tr>\n",
       "    <tr>\n",
       "      <th>3954</th>\n",
       "      <td>7225-CBZPL</td>\n",
       "      <td>2018-09-01</td>\n",
       "      <td>No</td>\n",
       "      <td>Month-to-month</td>\n",
       "      <td>Yes</td>\n",
       "      <td>Electronic check</td>\n",
       "      <td>94.80</td>\n",
       "      <td>1563.90</td>\n",
       "    </tr>\n",
       "    <tr>\n",
       "      <th>5328</th>\n",
       "      <td>0334-ZFJSR</td>\n",
       "      <td>2015-07-01</td>\n",
       "      <td>No</td>\n",
       "      <td>One year</td>\n",
       "      <td>Yes</td>\n",
       "      <td>Credit card (automatic)</td>\n",
       "      <td>66.05</td>\n",
       "      <td>3462.10</td>\n",
       "    </tr>\n",
       "    <tr>\n",
       "      <th>2462</th>\n",
       "      <td>2585-KTFRE</td>\n",
       "      <td>2020-01-01</td>\n",
       "      <td>No</td>\n",
       "      <td>Month-to-month</td>\n",
       "      <td>Yes</td>\n",
       "      <td>Bank transfer (automatic)</td>\n",
       "      <td>70.45</td>\n",
       "      <td>70.45</td>\n",
       "    </tr>\n",
       "    <tr>\n",
       "      <th>2872</th>\n",
       "      <td>8148-NLEGT</td>\n",
       "      <td>2016-08-01</td>\n",
       "      <td>No</td>\n",
       "      <td>Two year</td>\n",
       "      <td>No</td>\n",
       "      <td>Electronic check</td>\n",
       "      <td>22.95</td>\n",
       "      <td>1014.25</td>\n",
       "    </tr>\n",
       "    <tr>\n",
       "      <th>860</th>\n",
       "      <td>4795-UXVCJ</td>\n",
       "      <td>2017-12-01</td>\n",
       "      <td>No</td>\n",
       "      <td>One year</td>\n",
       "      <td>No</td>\n",
       "      <td>Credit card (automatic)</td>\n",
       "      <td>19.80</td>\n",
       "      <td>457.30</td>\n",
       "    </tr>\n",
       "    <tr>\n",
       "      <th>968</th>\n",
       "      <td>3429-IFLEM</td>\n",
       "      <td>2014-03-01</td>\n",
       "      <td>No</td>\n",
       "      <td>Two year</td>\n",
       "      <td>No</td>\n",
       "      <td>Credit card (automatic)</td>\n",
       "      <td>77.35</td>\n",
       "      <td>5550.10</td>\n",
       "    </tr>\n",
       "    <tr>\n",
       "      <th>6368</th>\n",
       "      <td>2720-WGKHP</td>\n",
       "      <td>2019-08-01</td>\n",
       "      <td>2019-10-01 00:00:00</td>\n",
       "      <td>Month-to-month</td>\n",
       "      <td>Yes</td>\n",
       "      <td>Electronic check</td>\n",
       "      <td>94.00</td>\n",
       "      <td>181.70</td>\n",
       "    </tr>\n",
       "  </tbody>\n",
       "</table>\n",
       "</div>"
      ],
      "text/plain": [
       "      customerID   BeginDate              EndDate            Type  \\\n",
       "6235  5180-UCIIQ  2018-03-01  2020-01-01 00:00:00  Month-to-month   \n",
       "3980  8868-WOZGU  2017-08-01  2019-12-01 00:00:00  Month-to-month   \n",
       "6548  5012-YSPJJ  2017-07-01                   No  Month-to-month   \n",
       "3954  7225-CBZPL  2018-09-01                   No  Month-to-month   \n",
       "5328  0334-ZFJSR  2015-07-01                   No        One year   \n",
       "2462  2585-KTFRE  2020-01-01                   No  Month-to-month   \n",
       "2872  8148-NLEGT  2016-08-01                   No        Two year   \n",
       "860   4795-UXVCJ  2017-12-01                   No        One year   \n",
       "968   3429-IFLEM  2014-03-01                   No        Two year   \n",
       "6368  2720-WGKHP  2019-08-01  2019-10-01 00:00:00  Month-to-month   \n",
       "\n",
       "     PaperlessBilling              PaymentMethod  MonthlyCharges  TotalCharges  \n",
       "6235               No               Mailed check           40.05        880.20  \n",
       "3980              Yes           Electronic check          105.70       2979.50  \n",
       "6548               No               Mailed check           54.35       1647.00  \n",
       "3954              Yes           Electronic check           94.80       1563.90  \n",
       "5328              Yes    Credit card (automatic)           66.05       3462.10  \n",
       "2462              Yes  Bank transfer (automatic)           70.45         70.45  \n",
       "2872               No           Electronic check           22.95       1014.25  \n",
       "860                No    Credit card (automatic)           19.80        457.30  \n",
       "968                No    Credit card (automatic)           77.35       5550.10  \n",
       "6368              Yes           Electronic check           94.00        181.70  "
      ]
     },
     "execution_count": 33,
     "metadata": {},
     "output_type": "execute_result"
    }
   ],
   "source": [
    "#Obtener una muestra del dataframe modificado\n",
    "contract.sample(10, random_state=12)"
   ]
  },
  {
   "cell_type": "code",
   "execution_count": 34,
   "id": "40def5d7",
   "metadata": {},
   "outputs": [],
   "source": [
    "#Convertit las columas con observaciones de tiempo a tipo datetime despues de convertir los valores object a NaN\n",
    "contract['EndDate'] = contract['EndDate'].replace('No', pd.NaT)\n",
    "contract['EndDate'] = pd.to_datetime(contract['EndDate'], format='%Y-%m-%d',  errors='ignore')\n"
   ]
  },
  {
   "cell_type": "code",
   "execution_count": 35,
   "id": "f6da2e6b",
   "metadata": {},
   "outputs": [],
   "source": [
    "#Agregar una nueva columna 'Churn' como nuestra columna objetivo y convertirlo en codigo binario\n",
    "contract['Churn'] = contract['EndDate'].apply(lambda x:1 if pd.notna(x) else 0)"
   ]
  },
  {
   "cell_type": "code",
   "execution_count": 36,
   "id": "d533f7cc",
   "metadata": {
    "scrolled": true
   },
   "outputs": [
    {
     "data": {
      "text/html": [
       "<div>\n",
       "<style scoped>\n",
       "    .dataframe tbody tr th:only-of-type {\n",
       "        vertical-align: middle;\n",
       "    }\n",
       "\n",
       "    .dataframe tbody tr th {\n",
       "        vertical-align: top;\n",
       "    }\n",
       "\n",
       "    .dataframe thead th {\n",
       "        text-align: right;\n",
       "    }\n",
       "</style>\n",
       "<table border=\"1\" class=\"dataframe\">\n",
       "  <thead>\n",
       "    <tr style=\"text-align: right;\">\n",
       "      <th></th>\n",
       "      <th>customerID</th>\n",
       "      <th>BeginDate</th>\n",
       "      <th>EndDate</th>\n",
       "      <th>Type</th>\n",
       "      <th>PaperlessBilling</th>\n",
       "      <th>PaymentMethod</th>\n",
       "      <th>MonthlyCharges</th>\n",
       "      <th>TotalCharges</th>\n",
       "      <th>Churn</th>\n",
       "    </tr>\n",
       "  </thead>\n",
       "  <tbody>\n",
       "    <tr>\n",
       "      <th>6235</th>\n",
       "      <td>5180-UCIIQ</td>\n",
       "      <td>2018-03-01</td>\n",
       "      <td>2020-01-01 00:00:00</td>\n",
       "      <td>Month-to-month</td>\n",
       "      <td>No</td>\n",
       "      <td>Mailed check</td>\n",
       "      <td>40.05</td>\n",
       "      <td>880.20</td>\n",
       "      <td>1</td>\n",
       "    </tr>\n",
       "    <tr>\n",
       "      <th>3980</th>\n",
       "      <td>8868-WOZGU</td>\n",
       "      <td>2017-08-01</td>\n",
       "      <td>2019-12-01 00:00:00</td>\n",
       "      <td>Month-to-month</td>\n",
       "      <td>Yes</td>\n",
       "      <td>Electronic check</td>\n",
       "      <td>105.70</td>\n",
       "      <td>2979.50</td>\n",
       "      <td>1</td>\n",
       "    </tr>\n",
       "    <tr>\n",
       "      <th>6548</th>\n",
       "      <td>5012-YSPJJ</td>\n",
       "      <td>2017-07-01</td>\n",
       "      <td>NaT</td>\n",
       "      <td>Month-to-month</td>\n",
       "      <td>No</td>\n",
       "      <td>Mailed check</td>\n",
       "      <td>54.35</td>\n",
       "      <td>1647.00</td>\n",
       "      <td>0</td>\n",
       "    </tr>\n",
       "    <tr>\n",
       "      <th>3954</th>\n",
       "      <td>7225-CBZPL</td>\n",
       "      <td>2018-09-01</td>\n",
       "      <td>NaT</td>\n",
       "      <td>Month-to-month</td>\n",
       "      <td>Yes</td>\n",
       "      <td>Electronic check</td>\n",
       "      <td>94.80</td>\n",
       "      <td>1563.90</td>\n",
       "      <td>0</td>\n",
       "    </tr>\n",
       "    <tr>\n",
       "      <th>5328</th>\n",
       "      <td>0334-ZFJSR</td>\n",
       "      <td>2015-07-01</td>\n",
       "      <td>NaT</td>\n",
       "      <td>One year</td>\n",
       "      <td>Yes</td>\n",
       "      <td>Credit card (automatic)</td>\n",
       "      <td>66.05</td>\n",
       "      <td>3462.10</td>\n",
       "      <td>0</td>\n",
       "    </tr>\n",
       "    <tr>\n",
       "      <th>2462</th>\n",
       "      <td>2585-KTFRE</td>\n",
       "      <td>2020-01-01</td>\n",
       "      <td>NaT</td>\n",
       "      <td>Month-to-month</td>\n",
       "      <td>Yes</td>\n",
       "      <td>Bank transfer (automatic)</td>\n",
       "      <td>70.45</td>\n",
       "      <td>70.45</td>\n",
       "      <td>0</td>\n",
       "    </tr>\n",
       "    <tr>\n",
       "      <th>2872</th>\n",
       "      <td>8148-NLEGT</td>\n",
       "      <td>2016-08-01</td>\n",
       "      <td>NaT</td>\n",
       "      <td>Two year</td>\n",
       "      <td>No</td>\n",
       "      <td>Electronic check</td>\n",
       "      <td>22.95</td>\n",
       "      <td>1014.25</td>\n",
       "      <td>0</td>\n",
       "    </tr>\n",
       "    <tr>\n",
       "      <th>860</th>\n",
       "      <td>4795-UXVCJ</td>\n",
       "      <td>2017-12-01</td>\n",
       "      <td>NaT</td>\n",
       "      <td>One year</td>\n",
       "      <td>No</td>\n",
       "      <td>Credit card (automatic)</td>\n",
       "      <td>19.80</td>\n",
       "      <td>457.30</td>\n",
       "      <td>0</td>\n",
       "    </tr>\n",
       "    <tr>\n",
       "      <th>968</th>\n",
       "      <td>3429-IFLEM</td>\n",
       "      <td>2014-03-01</td>\n",
       "      <td>NaT</td>\n",
       "      <td>Two year</td>\n",
       "      <td>No</td>\n",
       "      <td>Credit card (automatic)</td>\n",
       "      <td>77.35</td>\n",
       "      <td>5550.10</td>\n",
       "      <td>0</td>\n",
       "    </tr>\n",
       "    <tr>\n",
       "      <th>6368</th>\n",
       "      <td>2720-WGKHP</td>\n",
       "      <td>2019-08-01</td>\n",
       "      <td>2019-10-01 00:00:00</td>\n",
       "      <td>Month-to-month</td>\n",
       "      <td>Yes</td>\n",
       "      <td>Electronic check</td>\n",
       "      <td>94.00</td>\n",
       "      <td>181.70</td>\n",
       "      <td>1</td>\n",
       "    </tr>\n",
       "  </tbody>\n",
       "</table>\n",
       "</div>"
      ],
      "text/plain": [
       "      customerID   BeginDate              EndDate            Type  \\\n",
       "6235  5180-UCIIQ  2018-03-01  2020-01-01 00:00:00  Month-to-month   \n",
       "3980  8868-WOZGU  2017-08-01  2019-12-01 00:00:00  Month-to-month   \n",
       "6548  5012-YSPJJ  2017-07-01                  NaT  Month-to-month   \n",
       "3954  7225-CBZPL  2018-09-01                  NaT  Month-to-month   \n",
       "5328  0334-ZFJSR  2015-07-01                  NaT        One year   \n",
       "2462  2585-KTFRE  2020-01-01                  NaT  Month-to-month   \n",
       "2872  8148-NLEGT  2016-08-01                  NaT        Two year   \n",
       "860   4795-UXVCJ  2017-12-01                  NaT        One year   \n",
       "968   3429-IFLEM  2014-03-01                  NaT        Two year   \n",
       "6368  2720-WGKHP  2019-08-01  2019-10-01 00:00:00  Month-to-month   \n",
       "\n",
       "     PaperlessBilling              PaymentMethod  MonthlyCharges  \\\n",
       "6235               No               Mailed check           40.05   \n",
       "3980              Yes           Electronic check          105.70   \n",
       "6548               No               Mailed check           54.35   \n",
       "3954              Yes           Electronic check           94.80   \n",
       "5328              Yes    Credit card (automatic)           66.05   \n",
       "2462              Yes  Bank transfer (automatic)           70.45   \n",
       "2872               No           Electronic check           22.95   \n",
       "860                No    Credit card (automatic)           19.80   \n",
       "968                No    Credit card (automatic)           77.35   \n",
       "6368              Yes           Electronic check           94.00   \n",
       "\n",
       "      TotalCharges  Churn  \n",
       "6235        880.20      1  \n",
       "3980       2979.50      1  \n",
       "6548       1647.00      0  \n",
       "3954       1563.90      0  \n",
       "5328       3462.10      0  \n",
       "2462         70.45      0  \n",
       "2872       1014.25      0  \n",
       "860         457.30      0  \n",
       "968        5550.10      0  \n",
       "6368        181.70      1  "
      ]
     },
     "execution_count": 36,
     "metadata": {},
     "output_type": "execute_result"
    }
   ],
   "source": [
    "#Imprimir una muestra del dataframe modificado\n",
    "contract.sample(10, random_state=12)"
   ]
  },
  {
   "cell_type": "code",
   "execution_count": 37,
   "id": "0ea7999b",
   "metadata": {},
   "outputs": [
    {
     "data": {
      "text/plain": [
       "Churn\n",
       "0    5174\n",
       "1    1869\n",
       "Name: count, dtype: int64"
      ]
     },
     "execution_count": 37,
     "metadata": {},
     "output_type": "execute_result"
    }
   ],
   "source": [
    "#Verificar que ya no hayan valores ausentes\n",
    "valores_ausentes(contract['Churn'])"
   ]
  },
  {
   "cell_type": "code",
   "execution_count": 38,
   "id": "c6dc6857",
   "metadata": {},
   "outputs": [],
   "source": [
    "#Convertit las columas con observaciones de tiempo a tipo datetime \n",
    "contract['BeginDate'] = pd.to_datetime(contract['BeginDate'], format='%Y-%m-%d', errors='ignore')"
   ]
  },
  {
   "cell_type": "code",
   "execution_count": 39,
   "id": "a8f68fa4",
   "metadata": {},
   "outputs": [
    {
     "name": "stdout",
     "output_type": "stream",
     "text": [
      "<class 'pandas.core.series.Series'>\n",
      "RangeIndex: 7043 entries, 0 to 7042\n",
      "Series name: BeginDate\n",
      "Non-Null Count  Dtype         \n",
      "--------------  -----         \n",
      "7043 non-null   datetime64[ns]\n",
      "dtypes: datetime64[ns](1)\n",
      "memory usage: 55.2 KB\n"
     ]
    }
   ],
   "source": [
    "#Verificar que la columan modificada tenga el tipo correcto de datos\n",
    "contract['BeginDate'].info()"
   ]
  },
  {
   "cell_type": "markdown",
   "id": "7f6e97e8",
   "metadata": {},
   "source": [
    "### Personal"
   ]
  },
  {
   "cell_type": "code",
   "execution_count": 40,
   "id": "db129a79",
   "metadata": {},
   "outputs": [
    {
     "name": "stdout",
     "output_type": "stream",
     "text": [
      "<class 'pandas.core.frame.DataFrame'>\n",
      "RangeIndex: 7043 entries, 0 to 7042\n",
      "Data columns (total 5 columns):\n",
      " #   Column         Non-Null Count  Dtype \n",
      "---  ------         --------------  ----- \n",
      " 0   customerID     7043 non-null   object\n",
      " 1   gender         7043 non-null   object\n",
      " 2   SeniorCitizen  7043 non-null   int64 \n",
      " 3   Partner        7043 non-null   object\n",
      " 4   Dependents     7043 non-null   object\n",
      "dtypes: int64(1), object(4)\n",
      "memory usage: 275.2+ KB\n"
     ]
    }
   ],
   "source": [
    "#Revisar la cantidad de datos, su formato y si hay columnas con valores ausentes del dataframe 'personal'\n",
    "personal.info()"
   ]
  },
  {
   "cell_type": "code",
   "execution_count": 41,
   "id": "c614031e",
   "metadata": {},
   "outputs": [
    {
     "data": {
      "text/html": [
       "<div>\n",
       "<style scoped>\n",
       "    .dataframe tbody tr th:only-of-type {\n",
       "        vertical-align: middle;\n",
       "    }\n",
       "\n",
       "    .dataframe tbody tr th {\n",
       "        vertical-align: top;\n",
       "    }\n",
       "\n",
       "    .dataframe thead th {\n",
       "        text-align: right;\n",
       "    }\n",
       "</style>\n",
       "<table border=\"1\" class=\"dataframe\">\n",
       "  <thead>\n",
       "    <tr style=\"text-align: right;\">\n",
       "      <th></th>\n",
       "      <th>customerID</th>\n",
       "      <th>gender</th>\n",
       "      <th>SeniorCitizen</th>\n",
       "      <th>Partner</th>\n",
       "      <th>Dependents</th>\n",
       "    </tr>\n",
       "  </thead>\n",
       "  <tbody>\n",
       "    <tr>\n",
       "      <th>941</th>\n",
       "      <td>0811-GSDTP</td>\n",
       "      <td>Female</td>\n",
       "      <td>0</td>\n",
       "      <td>No</td>\n",
       "      <td>Yes</td>\n",
       "    </tr>\n",
       "    <tr>\n",
       "      <th>1404</th>\n",
       "      <td>1970-KKFWL</td>\n",
       "      <td>Female</td>\n",
       "      <td>0</td>\n",
       "      <td>No</td>\n",
       "      <td>No</td>\n",
       "    </tr>\n",
       "    <tr>\n",
       "      <th>5515</th>\n",
       "      <td>2892-GESUL</td>\n",
       "      <td>Female</td>\n",
       "      <td>0</td>\n",
       "      <td>Yes</td>\n",
       "      <td>Yes</td>\n",
       "    </tr>\n",
       "    <tr>\n",
       "      <th>3684</th>\n",
       "      <td>2842-BCQGE</td>\n",
       "      <td>Male</td>\n",
       "      <td>0</td>\n",
       "      <td>No</td>\n",
       "      <td>No</td>\n",
       "    </tr>\n",
       "    <tr>\n",
       "      <th>7017</th>\n",
       "      <td>4807-IZYOZ</td>\n",
       "      <td>Female</td>\n",
       "      <td>0</td>\n",
       "      <td>No</td>\n",
       "      <td>No</td>\n",
       "    </tr>\n",
       "    <tr>\n",
       "      <th>3643</th>\n",
       "      <td>9451-WLYRI</td>\n",
       "      <td>Female</td>\n",
       "      <td>0</td>\n",
       "      <td>Yes</td>\n",
       "      <td>No</td>\n",
       "    </tr>\n",
       "    <tr>\n",
       "      <th>3846</th>\n",
       "      <td>1767-TGTKO</td>\n",
       "      <td>Female</td>\n",
       "      <td>0</td>\n",
       "      <td>Yes</td>\n",
       "      <td>Yes</td>\n",
       "    </tr>\n",
       "    <tr>\n",
       "      <th>6185</th>\n",
       "      <td>8033-VCZGH</td>\n",
       "      <td>Male</td>\n",
       "      <td>0</td>\n",
       "      <td>Yes</td>\n",
       "      <td>No</td>\n",
       "    </tr>\n",
       "    <tr>\n",
       "      <th>613</th>\n",
       "      <td>6689-VRRTK</td>\n",
       "      <td>Female</td>\n",
       "      <td>1</td>\n",
       "      <td>No</td>\n",
       "      <td>No</td>\n",
       "    </tr>\n",
       "    <tr>\n",
       "      <th>2680</th>\n",
       "      <td>6997-UVGOX</td>\n",
       "      <td>Male</td>\n",
       "      <td>0</td>\n",
       "      <td>Yes</td>\n",
       "      <td>Yes</td>\n",
       "    </tr>\n",
       "  </tbody>\n",
       "</table>\n",
       "</div>"
      ],
      "text/plain": [
       "      customerID  gender  SeniorCitizen Partner Dependents\n",
       "941   0811-GSDTP  Female              0      No        Yes\n",
       "1404  1970-KKFWL  Female              0      No         No\n",
       "5515  2892-GESUL  Female              0     Yes        Yes\n",
       "3684  2842-BCQGE    Male              0      No         No\n",
       "7017  4807-IZYOZ  Female              0      No         No\n",
       "3643  9451-WLYRI  Female              0     Yes         No\n",
       "3846  1767-TGTKO  Female              0     Yes        Yes\n",
       "6185  8033-VCZGH    Male              0     Yes         No\n",
       "613   6689-VRRTK  Female              1      No         No\n",
       "2680  6997-UVGOX    Male              0     Yes        Yes"
      ]
     },
     "execution_count": 41,
     "metadata": {},
     "output_type": "execute_result"
    }
   ],
   "source": [
    "#Imprimir una muestra del dataframe 'personal' para ver la información provista\n",
    "personal.sample(10, random_state=123)"
   ]
  },
  {
   "cell_type": "code",
   "execution_count": 42,
   "id": "4c73bdd2",
   "metadata": {},
   "outputs": [
    {
     "data": {
      "text/plain": [
       "customerID       0\n",
       "gender           0\n",
       "SeniorCitizen    0\n",
       "Partner          0\n",
       "Dependents       0\n",
       "dtype: int64"
      ]
     },
     "execution_count": 42,
     "metadata": {},
     "output_type": "execute_result"
    }
   ],
   "source": [
    "#Revisar valores ausentes\n",
    "personal.isna().sum()"
   ]
  },
  {
   "cell_type": "code",
   "execution_count": 43,
   "id": "a1e1b422",
   "metadata": {},
   "outputs": [
    {
     "data": {
      "text/plain": [
       "gender\n",
       "Female    3488\n",
       "Male      3555\n",
       "Name: count, dtype: int64"
      ]
     },
     "execution_count": 43,
     "metadata": {},
     "output_type": "execute_result"
    }
   ],
   "source": [
    "#Revisar valores ausentes en la columna 'gender'\n",
    "valores_ausentes(personal['gender'])"
   ]
  },
  {
   "cell_type": "code",
   "execution_count": 44,
   "id": "520224ad",
   "metadata": {},
   "outputs": [
    {
     "data": {
      "text/plain": [
       "SeniorCitizen\n",
       "0    5901\n",
       "1    1142\n",
       "Name: count, dtype: int64"
      ]
     },
     "execution_count": 44,
     "metadata": {},
     "output_type": "execute_result"
    }
   ],
   "source": [
    "#Revisar valores ausentes en la columna 'SeniorCitizen'\n",
    "valores_ausentes(personal['SeniorCitizen'])"
   ]
  },
  {
   "cell_type": "code",
   "execution_count": 45,
   "id": "41cbc38f",
   "metadata": {},
   "outputs": [
    {
     "data": {
      "text/plain": [
       "Partner\n",
       "No     3641\n",
       "Yes    3402\n",
       "Name: count, dtype: int64"
      ]
     },
     "execution_count": 45,
     "metadata": {},
     "output_type": "execute_result"
    }
   ],
   "source": [
    "#Revisar valores ausentes en la columna 'Partner'\n",
    "valores_ausentes(personal['Partner'])"
   ]
  },
  {
   "cell_type": "code",
   "execution_count": 46,
   "id": "4da55aa0",
   "metadata": {},
   "outputs": [
    {
     "data": {
      "text/plain": [
       "Dependents\n",
       "No     4933\n",
       "Yes    2110\n",
       "Name: count, dtype: int64"
      ]
     },
     "execution_count": 46,
     "metadata": {},
     "output_type": "execute_result"
    }
   ],
   "source": [
    "#Revisar valores ausentes en la columna 'Dependents'\n",
    "valores_ausentes(personal['Dependents'])"
   ]
  },
  {
   "cell_type": "code",
   "execution_count": 47,
   "id": "54519931",
   "metadata": {},
   "outputs": [
    {
     "data": {
      "text/plain": [
       "0"
      ]
     },
     "execution_count": 47,
     "metadata": {},
     "output_type": "execute_result"
    }
   ],
   "source": [
    "#Revisar valores duplicados\n",
    "personal.duplicated().sum()"
   ]
  },
  {
   "cell_type": "markdown",
   "id": "d9caaa63",
   "metadata": {},
   "source": [
    "### Phone"
   ]
  },
  {
   "cell_type": "code",
   "execution_count": 48,
   "id": "18d48354",
   "metadata": {},
   "outputs": [
    {
     "name": "stdout",
     "output_type": "stream",
     "text": [
      "<class 'pandas.core.frame.DataFrame'>\n",
      "RangeIndex: 6361 entries, 0 to 6360\n",
      "Data columns (total 2 columns):\n",
      " #   Column         Non-Null Count  Dtype \n",
      "---  ------         --------------  ----- \n",
      " 0   customerID     6361 non-null   object\n",
      " 1   MultipleLines  6361 non-null   object\n",
      "dtypes: object(2)\n",
      "memory usage: 99.5+ KB\n"
     ]
    }
   ],
   "source": [
    "#Revisar la cantidad de datos, su formato y si hay columnas con valores ausentes del dataframe 'phone'\n",
    "phone.info()"
   ]
  },
  {
   "cell_type": "code",
   "execution_count": 49,
   "id": "7a2defd3",
   "metadata": {},
   "outputs": [
    {
     "data": {
      "text/html": [
       "<div>\n",
       "<style scoped>\n",
       "    .dataframe tbody tr th:only-of-type {\n",
       "        vertical-align: middle;\n",
       "    }\n",
       "\n",
       "    .dataframe tbody tr th {\n",
       "        vertical-align: top;\n",
       "    }\n",
       "\n",
       "    .dataframe thead th {\n",
       "        text-align: right;\n",
       "    }\n",
       "</style>\n",
       "<table border=\"1\" class=\"dataframe\">\n",
       "  <thead>\n",
       "    <tr style=\"text-align: right;\">\n",
       "      <th></th>\n",
       "      <th>customerID</th>\n",
       "      <th>MultipleLines</th>\n",
       "    </tr>\n",
       "  </thead>\n",
       "  <tbody>\n",
       "    <tr>\n",
       "      <th>1868</th>\n",
       "      <td>8543-MSDMF</td>\n",
       "      <td>No</td>\n",
       "    </tr>\n",
       "    <tr>\n",
       "      <th>1896</th>\n",
       "      <td>7228-PAQPD</td>\n",
       "      <td>No</td>\n",
       "    </tr>\n",
       "    <tr>\n",
       "      <th>4150</th>\n",
       "      <td>3709-OIJEA</td>\n",
       "      <td>No</td>\n",
       "    </tr>\n",
       "    <tr>\n",
       "      <th>5335</th>\n",
       "      <td>2296-DKZFP</td>\n",
       "      <td>No</td>\n",
       "    </tr>\n",
       "    <tr>\n",
       "      <th>4728</th>\n",
       "      <td>2983-ZANRP</td>\n",
       "      <td>No</td>\n",
       "    </tr>\n",
       "    <tr>\n",
       "      <th>6154</th>\n",
       "      <td>2030-BTZRO</td>\n",
       "      <td>No</td>\n",
       "    </tr>\n",
       "    <tr>\n",
       "      <th>1917</th>\n",
       "      <td>6227-FBDXH</td>\n",
       "      <td>Yes</td>\n",
       "    </tr>\n",
       "    <tr>\n",
       "      <th>1642</th>\n",
       "      <td>0839-QNXME</td>\n",
       "      <td>No</td>\n",
       "    </tr>\n",
       "    <tr>\n",
       "      <th>3629</th>\n",
       "      <td>6986-IXNDM</td>\n",
       "      <td>No</td>\n",
       "    </tr>\n",
       "    <tr>\n",
       "      <th>1854</th>\n",
       "      <td>3753-TSEMP</td>\n",
       "      <td>No</td>\n",
       "    </tr>\n",
       "  </tbody>\n",
       "</table>\n",
       "</div>"
      ],
      "text/plain": [
       "      customerID MultipleLines\n",
       "1868  8543-MSDMF            No\n",
       "1896  7228-PAQPD            No\n",
       "4150  3709-OIJEA            No\n",
       "5335  2296-DKZFP            No\n",
       "4728  2983-ZANRP            No\n",
       "6154  2030-BTZRO            No\n",
       "1917  6227-FBDXH           Yes\n",
       "1642  0839-QNXME            No\n",
       "3629  6986-IXNDM            No\n",
       "1854  3753-TSEMP            No"
      ]
     },
     "execution_count": 49,
     "metadata": {},
     "output_type": "execute_result"
    }
   ],
   "source": [
    "#Imprimir una muestra del dataframe 'phone' para ver la información provista\n",
    "phone.sample(10, random_state=123)"
   ]
  },
  {
   "cell_type": "code",
   "execution_count": 50,
   "id": "f536c0b9",
   "metadata": {},
   "outputs": [
    {
     "data": {
      "text/plain": [
       "customerID       0\n",
       "MultipleLines    0\n",
       "dtype: int64"
      ]
     },
     "execution_count": 50,
     "metadata": {},
     "output_type": "execute_result"
    }
   ],
   "source": [
    "#Verificar que el dataframe no contenga valores ausentes \n",
    "phone.isna().sum()"
   ]
  },
  {
   "cell_type": "code",
   "execution_count": 51,
   "id": "01204e95",
   "metadata": {},
   "outputs": [
    {
     "data": {
      "text/plain": [
       "MultipleLines\n",
       "No     3390\n",
       "Yes    2971\n",
       "Name: count, dtype: int64"
      ]
     },
     "execution_count": 51,
     "metadata": {},
     "output_type": "execute_result"
    }
   ],
   "source": [
    "#Revisar valores ausentes en la columna 'MultipleLines'\n",
    "valores_ausentes(phone['MultipleLines'])"
   ]
  },
  {
   "cell_type": "code",
   "execution_count": 52,
   "id": "8e5aafc3",
   "metadata": {},
   "outputs": [
    {
     "data": {
      "text/plain": [
       "0"
      ]
     },
     "execution_count": 52,
     "metadata": {},
     "output_type": "execute_result"
    }
   ],
   "source": [
    "#Verificar que no haya valores duplicados\n",
    "phone.duplicated().sum()"
   ]
  },
  {
   "cell_type": "markdown",
   "id": "d378097e",
   "metadata": {},
   "source": [
    "#### Unir los dataframes "
   ]
  },
  {
   "cell_type": "code",
   "execution_count": 53,
   "id": "a511571e",
   "metadata": {},
   "outputs": [],
   "source": [
    "#Unir los diferentes dataframes de acuerdo con el customer_id y demanera que no se mantenga la longitud máxima del df mas grande\n",
    "data_merged = contract.merge(internet_cut, on ='customerID', how='outer')\n",
    "data_merged = data_merged.merge(personal, on='customerID', how='outer')\n",
    "data_merged = data_merged.merge(phone, on='customerID', how='outer')"
   ]
  },
  {
   "cell_type": "code",
   "execution_count": 54,
   "id": "e32a98e7",
   "metadata": {},
   "outputs": [
    {
     "data": {
      "text/html": [
       "<div>\n",
       "<style scoped>\n",
       "    .dataframe tbody tr th:only-of-type {\n",
       "        vertical-align: middle;\n",
       "    }\n",
       "\n",
       "    .dataframe tbody tr th {\n",
       "        vertical-align: top;\n",
       "    }\n",
       "\n",
       "    .dataframe thead th {\n",
       "        text-align: right;\n",
       "    }\n",
       "</style>\n",
       "<table border=\"1\" class=\"dataframe\">\n",
       "  <thead>\n",
       "    <tr style=\"text-align: right;\">\n",
       "      <th></th>\n",
       "      <th>customerID</th>\n",
       "      <th>BeginDate</th>\n",
       "      <th>EndDate</th>\n",
       "      <th>Type</th>\n",
       "      <th>PaperlessBilling</th>\n",
       "      <th>PaymentMethod</th>\n",
       "      <th>MonthlyCharges</th>\n",
       "      <th>TotalCharges</th>\n",
       "      <th>Churn</th>\n",
       "      <th>InternetService</th>\n",
       "      <th>NumOfServices</th>\n",
       "      <th>gender</th>\n",
       "      <th>SeniorCitizen</th>\n",
       "      <th>Partner</th>\n",
       "      <th>Dependents</th>\n",
       "      <th>MultipleLines</th>\n",
       "    </tr>\n",
       "  </thead>\n",
       "  <tbody>\n",
       "    <tr>\n",
       "      <th>941</th>\n",
       "      <td>0811-GSDTP</td>\n",
       "      <td>2019-01-01</td>\n",
       "      <td>NaT</td>\n",
       "      <td>Month-to-month</td>\n",
       "      <td>No</td>\n",
       "      <td>Electronic check</td>\n",
       "      <td>30.15</td>\n",
       "      <td>382.20</td>\n",
       "      <td>0</td>\n",
       "      <td>DSL</td>\n",
       "      <td>1.0</td>\n",
       "      <td>Female</td>\n",
       "      <td>0</td>\n",
       "      <td>No</td>\n",
       "      <td>Yes</td>\n",
       "      <td>NaN</td>\n",
       "    </tr>\n",
       "    <tr>\n",
       "      <th>1404</th>\n",
       "      <td>1970-KKFWL</td>\n",
       "      <td>2017-03-01</td>\n",
       "      <td>NaT</td>\n",
       "      <td>Two year</td>\n",
       "      <td>No</td>\n",
       "      <td>Bank transfer (automatic)</td>\n",
       "      <td>23.30</td>\n",
       "      <td>797.10</td>\n",
       "      <td>0</td>\n",
       "      <td>NaN</td>\n",
       "      <td>NaN</td>\n",
       "      <td>Female</td>\n",
       "      <td>0</td>\n",
       "      <td>No</td>\n",
       "      <td>No</td>\n",
       "      <td>Yes</td>\n",
       "    </tr>\n",
       "    <tr>\n",
       "      <th>5515</th>\n",
       "      <td>2892-GESUL</td>\n",
       "      <td>2018-08-01</td>\n",
       "      <td>NaT</td>\n",
       "      <td>Two year</td>\n",
       "      <td>No</td>\n",
       "      <td>Mailed check</td>\n",
       "      <td>19.35</td>\n",
       "      <td>309.25</td>\n",
       "      <td>0</td>\n",
       "      <td>NaN</td>\n",
       "      <td>NaN</td>\n",
       "      <td>Female</td>\n",
       "      <td>0</td>\n",
       "      <td>Yes</td>\n",
       "      <td>Yes</td>\n",
       "      <td>No</td>\n",
       "    </tr>\n",
       "    <tr>\n",
       "      <th>3684</th>\n",
       "      <td>2842-BCQGE</td>\n",
       "      <td>2016-07-01</td>\n",
       "      <td>NaT</td>\n",
       "      <td>Month-to-month</td>\n",
       "      <td>Yes</td>\n",
       "      <td>Credit card (automatic)</td>\n",
       "      <td>75.35</td>\n",
       "      <td>3161.40</td>\n",
       "      <td>0</td>\n",
       "      <td>Fiber optic</td>\n",
       "      <td>0.0</td>\n",
       "      <td>Male</td>\n",
       "      <td>0</td>\n",
       "      <td>No</td>\n",
       "      <td>No</td>\n",
       "      <td>Yes</td>\n",
       "    </tr>\n",
       "    <tr>\n",
       "      <th>7017</th>\n",
       "      <td>4807-IZYOZ</td>\n",
       "      <td>2015-11-01</td>\n",
       "      <td>NaT</td>\n",
       "      <td>Two year</td>\n",
       "      <td>No</td>\n",
       "      <td>Bank transfer (automatic)</td>\n",
       "      <td>20.65</td>\n",
       "      <td>1020.75</td>\n",
       "      <td>0</td>\n",
       "      <td>NaN</td>\n",
       "      <td>NaN</td>\n",
       "      <td>Female</td>\n",
       "      <td>0</td>\n",
       "      <td>No</td>\n",
       "      <td>No</td>\n",
       "      <td>No</td>\n",
       "    </tr>\n",
       "    <tr>\n",
       "      <th>3643</th>\n",
       "      <td>9451-WLYRI</td>\n",
       "      <td>2015-09-01</td>\n",
       "      <td>NaT</td>\n",
       "      <td>One year</td>\n",
       "      <td>No</td>\n",
       "      <td>Credit card (automatic)</td>\n",
       "      <td>19.05</td>\n",
       "      <td>990.45</td>\n",
       "      <td>0</td>\n",
       "      <td>NaN</td>\n",
       "      <td>NaN</td>\n",
       "      <td>Female</td>\n",
       "      <td>0</td>\n",
       "      <td>Yes</td>\n",
       "      <td>No</td>\n",
       "      <td>No</td>\n",
       "    </tr>\n",
       "    <tr>\n",
       "      <th>3846</th>\n",
       "      <td>1767-TGTKO</td>\n",
       "      <td>2019-06-01</td>\n",
       "      <td>NaT</td>\n",
       "      <td>Month-to-month</td>\n",
       "      <td>Yes</td>\n",
       "      <td>Electronic check</td>\n",
       "      <td>45.45</td>\n",
       "      <td>411.75</td>\n",
       "      <td>0</td>\n",
       "      <td>DSL</td>\n",
       "      <td>0.0</td>\n",
       "      <td>Female</td>\n",
       "      <td>0</td>\n",
       "      <td>Yes</td>\n",
       "      <td>Yes</td>\n",
       "      <td>No</td>\n",
       "    </tr>\n",
       "    <tr>\n",
       "      <th>6185</th>\n",
       "      <td>8033-VCZGH</td>\n",
       "      <td>2015-12-01</td>\n",
       "      <td>NaT</td>\n",
       "      <td>One year</td>\n",
       "      <td>Yes</td>\n",
       "      <td>Electronic check</td>\n",
       "      <td>103.95</td>\n",
       "      <td>5231.30</td>\n",
       "      <td>0</td>\n",
       "      <td>Fiber optic</td>\n",
       "      <td>4.0</td>\n",
       "      <td>Male</td>\n",
       "      <td>0</td>\n",
       "      <td>Yes</td>\n",
       "      <td>No</td>\n",
       "      <td>Yes</td>\n",
       "    </tr>\n",
       "    <tr>\n",
       "      <th>613</th>\n",
       "      <td>6689-VRRTK</td>\n",
       "      <td>2016-06-01</td>\n",
       "      <td>NaT</td>\n",
       "      <td>One year</td>\n",
       "      <td>Yes</td>\n",
       "      <td>Credit card (automatic)</td>\n",
       "      <td>109.80</td>\n",
       "      <td>4860.35</td>\n",
       "      <td>0</td>\n",
       "      <td>Fiber optic</td>\n",
       "      <td>5.0</td>\n",
       "      <td>Female</td>\n",
       "      <td>1</td>\n",
       "      <td>No</td>\n",
       "      <td>No</td>\n",
       "      <td>Yes</td>\n",
       "    </tr>\n",
       "    <tr>\n",
       "      <th>2680</th>\n",
       "      <td>6997-UVGOX</td>\n",
       "      <td>2014-03-01</td>\n",
       "      <td>NaT</td>\n",
       "      <td>Two year</td>\n",
       "      <td>No</td>\n",
       "      <td>Bank transfer (automatic)</td>\n",
       "      <td>85.45</td>\n",
       "      <td>6029.90</td>\n",
       "      <td>0</td>\n",
       "      <td>DSL</td>\n",
       "      <td>6.0</td>\n",
       "      <td>Male</td>\n",
       "      <td>0</td>\n",
       "      <td>Yes</td>\n",
       "      <td>Yes</td>\n",
       "      <td>No</td>\n",
       "    </tr>\n",
       "  </tbody>\n",
       "</table>\n",
       "</div>"
      ],
      "text/plain": [
       "      customerID  BeginDate EndDate            Type PaperlessBilling  \\\n",
       "941   0811-GSDTP 2019-01-01     NaT  Month-to-month               No   \n",
       "1404  1970-KKFWL 2017-03-01     NaT        Two year               No   \n",
       "5515  2892-GESUL 2018-08-01     NaT        Two year               No   \n",
       "3684  2842-BCQGE 2016-07-01     NaT  Month-to-month              Yes   \n",
       "7017  4807-IZYOZ 2015-11-01     NaT        Two year               No   \n",
       "3643  9451-WLYRI 2015-09-01     NaT        One year               No   \n",
       "3846  1767-TGTKO 2019-06-01     NaT  Month-to-month              Yes   \n",
       "6185  8033-VCZGH 2015-12-01     NaT        One year              Yes   \n",
       "613   6689-VRRTK 2016-06-01     NaT        One year              Yes   \n",
       "2680  6997-UVGOX 2014-03-01     NaT        Two year               No   \n",
       "\n",
       "                  PaymentMethod  MonthlyCharges  TotalCharges  Churn  \\\n",
       "941            Electronic check           30.15        382.20      0   \n",
       "1404  Bank transfer (automatic)           23.30        797.10      0   \n",
       "5515               Mailed check           19.35        309.25      0   \n",
       "3684    Credit card (automatic)           75.35       3161.40      0   \n",
       "7017  Bank transfer (automatic)           20.65       1020.75      0   \n",
       "3643    Credit card (automatic)           19.05        990.45      0   \n",
       "3846           Electronic check           45.45        411.75      0   \n",
       "6185           Electronic check          103.95       5231.30      0   \n",
       "613     Credit card (automatic)          109.80       4860.35      0   \n",
       "2680  Bank transfer (automatic)           85.45       6029.90      0   \n",
       "\n",
       "     InternetService  NumOfServices  gender  SeniorCitizen Partner Dependents  \\\n",
       "941              DSL            1.0  Female              0      No        Yes   \n",
       "1404             NaN            NaN  Female              0      No         No   \n",
       "5515             NaN            NaN  Female              0     Yes        Yes   \n",
       "3684     Fiber optic            0.0    Male              0      No         No   \n",
       "7017             NaN            NaN  Female              0      No         No   \n",
       "3643             NaN            NaN  Female              0     Yes         No   \n",
       "3846             DSL            0.0  Female              0     Yes        Yes   \n",
       "6185     Fiber optic            4.0    Male              0     Yes         No   \n",
       "613      Fiber optic            5.0  Female              1      No         No   \n",
       "2680             DSL            6.0    Male              0     Yes        Yes   \n",
       "\n",
       "     MultipleLines  \n",
       "941            NaN  \n",
       "1404           Yes  \n",
       "5515            No  \n",
       "3684           Yes  \n",
       "7017            No  \n",
       "3643            No  \n",
       "3846            No  \n",
       "6185           Yes  \n",
       "613            Yes  \n",
       "2680            No  "
      ]
     },
     "execution_count": 54,
     "metadata": {},
     "output_type": "execute_result"
    }
   ],
   "source": [
    "#Obtenermos una muestra de los dataframes agregados \n",
    "data_merged.sample(10, random_state=123)"
   ]
  },
  {
   "cell_type": "code",
   "execution_count": 55,
   "id": "c4a23f71",
   "metadata": {},
   "outputs": [
    {
     "data": {
      "text/plain": [
       "TotalCharges\n",
       "18.80       1\n",
       "18.85       2\n",
       "18.90       1\n",
       "19.00       1\n",
       "19.05       1\n",
       "           ..\n",
       "8594.40     1\n",
       "8670.10     1\n",
       "8672.45     1\n",
       "8684.80     1\n",
       "NaN        11\n",
       "Name: count, Length: 6531, dtype: int64"
      ]
     },
     "execution_count": 55,
     "metadata": {},
     "output_type": "execute_result"
    }
   ],
   "source": [
    "#Revisamos si se generaron valores ausentes al momento de unir los dfs en la columna 'TotalCharges'\n",
    "valores_ausentes(data_merged['TotalCharges'])"
   ]
  },
  {
   "cell_type": "code",
   "execution_count": 56,
   "id": "fca214e1",
   "metadata": {},
   "outputs": [
    {
     "data": {
      "text/plain": [
       "InternetService\n",
       "DSL            2421\n",
       "Fiber optic    3096\n",
       "NaN            1526\n",
       "Name: count, dtype: int64"
      ]
     },
     "execution_count": 56,
     "metadata": {},
     "output_type": "execute_result"
    }
   ],
   "source": [
    "#Revisamos si se generaron valores ausentes al momento de unir los dfs en la columna 'InternetService'\n",
    "valores_ausentes(data_merged['InternetService'])"
   ]
  },
  {
   "cell_type": "code",
   "execution_count": 57,
   "id": "a811e334",
   "metadata": {},
   "outputs": [
    {
     "data": {
      "text/plain": [
       "NumOfServices\n",
       "0.0     693\n",
       "1.0     966\n",
       "2.0    1033\n",
       "3.0    1118\n",
       "4.0     852\n",
       "5.0     571\n",
       "6.0     284\n",
       "NaN    1526\n",
       "Name: count, dtype: int64"
      ]
     },
     "execution_count": 57,
     "metadata": {},
     "output_type": "execute_result"
    }
   ],
   "source": [
    "#Revisamos si se generaron valores ausentes al momento de unir los dfs en la columna 'NumOfServices'\n",
    "valores_ausentes(data_merged['NumOfServices'])"
   ]
  },
  {
   "cell_type": "code",
   "execution_count": 58,
   "id": "de441de6",
   "metadata": {},
   "outputs": [
    {
     "data": {
      "text/plain": [
       "MultipleLines\n",
       "No     3390\n",
       "Yes    2971\n",
       "NaN     682\n",
       "Name: count, dtype: int64"
      ]
     },
     "execution_count": 58,
     "metadata": {},
     "output_type": "execute_result"
    }
   ],
   "source": [
    "#Revisamos si se generaron valores ausentes al momento de unir los dfs en la columna 'MultipleLines'\n",
    "valores_ausentes(data_merged['MultipleLines'])\n"
   ]
  },
  {
   "cell_type": "code",
   "execution_count": 59,
   "id": "e0dcebcc",
   "metadata": {},
   "outputs": [],
   "source": [
    "#Rellenamos los nuevos valores ausentes con knn-imputer para las variables numericas y con la moda para las variables categóricas\n",
    "knn_imputer = KNNImputer(n_neighbors=5)\n",
    "df_numeric = data_merged.select_dtypes(include=['float64', 'int64'])\n",
    "df_categorical = data_merged.select_dtypes(include=['object'])\n",
    "\n",
    "numeric_imputed = pd.DataFrame(knn_imputer.fit_transform(df_numeric), columns=df_numeric.columns)\n",
    "data_merged[df_numeric.columns] = numeric_imputed\n",
    "\n",
    "for column in df_categorical.columns:\n",
    "    mode_value = data_merged[column].mode()[0]  \n",
    "    data_merged[column].fillna(mode_value, inplace=True)\n",
    "    "
   ]
  },
  {
   "cell_type": "code",
   "execution_count": 60,
   "id": "58520cc7",
   "metadata": {
    "scrolled": true
   },
   "outputs": [
    {
     "data": {
      "text/html": [
       "<div>\n",
       "<style scoped>\n",
       "    .dataframe tbody tr th:only-of-type {\n",
       "        vertical-align: middle;\n",
       "    }\n",
       "\n",
       "    .dataframe tbody tr th {\n",
       "        vertical-align: top;\n",
       "    }\n",
       "\n",
       "    .dataframe thead th {\n",
       "        text-align: right;\n",
       "    }\n",
       "</style>\n",
       "<table border=\"1\" class=\"dataframe\">\n",
       "  <thead>\n",
       "    <tr style=\"text-align: right;\">\n",
       "      <th></th>\n",
       "      <th>customerID</th>\n",
       "      <th>BeginDate</th>\n",
       "      <th>EndDate</th>\n",
       "      <th>Type</th>\n",
       "      <th>PaperlessBilling</th>\n",
       "      <th>PaymentMethod</th>\n",
       "      <th>MonthlyCharges</th>\n",
       "      <th>TotalCharges</th>\n",
       "      <th>Churn</th>\n",
       "      <th>InternetService</th>\n",
       "      <th>NumOfServices</th>\n",
       "      <th>gender</th>\n",
       "      <th>SeniorCitizen</th>\n",
       "      <th>Partner</th>\n",
       "      <th>Dependents</th>\n",
       "      <th>MultipleLines</th>\n",
       "    </tr>\n",
       "  </thead>\n",
       "  <tbody>\n",
       "    <tr>\n",
       "      <th>941</th>\n",
       "      <td>0811-GSDTP</td>\n",
       "      <td>2019-01-01</td>\n",
       "      <td>2019-11-01 00:00:00</td>\n",
       "      <td>Month-to-month</td>\n",
       "      <td>No</td>\n",
       "      <td>Electronic check</td>\n",
       "      <td>30.15</td>\n",
       "      <td>382.20</td>\n",
       "      <td>0.0</td>\n",
       "      <td>DSL</td>\n",
       "      <td>1.0</td>\n",
       "      <td>Female</td>\n",
       "      <td>0.0</td>\n",
       "      <td>No</td>\n",
       "      <td>Yes</td>\n",
       "      <td>No</td>\n",
       "    </tr>\n",
       "    <tr>\n",
       "      <th>1404</th>\n",
       "      <td>1970-KKFWL</td>\n",
       "      <td>2017-03-01</td>\n",
       "      <td>2019-11-01 00:00:00</td>\n",
       "      <td>Two year</td>\n",
       "      <td>No</td>\n",
       "      <td>Bank transfer (automatic)</td>\n",
       "      <td>23.30</td>\n",
       "      <td>797.10</td>\n",
       "      <td>0.0</td>\n",
       "      <td>Fiber optic</td>\n",
       "      <td>0.6</td>\n",
       "      <td>Female</td>\n",
       "      <td>0.0</td>\n",
       "      <td>No</td>\n",
       "      <td>No</td>\n",
       "      <td>Yes</td>\n",
       "    </tr>\n",
       "    <tr>\n",
       "      <th>5515</th>\n",
       "      <td>2892-GESUL</td>\n",
       "      <td>2018-08-01</td>\n",
       "      <td>2019-11-01 00:00:00</td>\n",
       "      <td>Two year</td>\n",
       "      <td>No</td>\n",
       "      <td>Mailed check</td>\n",
       "      <td>19.35</td>\n",
       "      <td>309.25</td>\n",
       "      <td>0.0</td>\n",
       "      <td>Fiber optic</td>\n",
       "      <td>0.6</td>\n",
       "      <td>Female</td>\n",
       "      <td>0.0</td>\n",
       "      <td>Yes</td>\n",
       "      <td>Yes</td>\n",
       "      <td>No</td>\n",
       "    </tr>\n",
       "    <tr>\n",
       "      <th>3684</th>\n",
       "      <td>2842-BCQGE</td>\n",
       "      <td>2016-07-01</td>\n",
       "      <td>2019-11-01 00:00:00</td>\n",
       "      <td>Month-to-month</td>\n",
       "      <td>Yes</td>\n",
       "      <td>Credit card (automatic)</td>\n",
       "      <td>75.35</td>\n",
       "      <td>3161.40</td>\n",
       "      <td>0.0</td>\n",
       "      <td>Fiber optic</td>\n",
       "      <td>0.0</td>\n",
       "      <td>Male</td>\n",
       "      <td>0.0</td>\n",
       "      <td>No</td>\n",
       "      <td>No</td>\n",
       "      <td>Yes</td>\n",
       "    </tr>\n",
       "    <tr>\n",
       "      <th>7017</th>\n",
       "      <td>4807-IZYOZ</td>\n",
       "      <td>2015-11-01</td>\n",
       "      <td>2019-11-01 00:00:00</td>\n",
       "      <td>Two year</td>\n",
       "      <td>No</td>\n",
       "      <td>Bank transfer (automatic)</td>\n",
       "      <td>20.65</td>\n",
       "      <td>1020.75</td>\n",
       "      <td>0.0</td>\n",
       "      <td>Fiber optic</td>\n",
       "      <td>1.8</td>\n",
       "      <td>Female</td>\n",
       "      <td>0.0</td>\n",
       "      <td>No</td>\n",
       "      <td>No</td>\n",
       "      <td>No</td>\n",
       "    </tr>\n",
       "    <tr>\n",
       "      <th>3643</th>\n",
       "      <td>9451-WLYRI</td>\n",
       "      <td>2015-09-01</td>\n",
       "      <td>2019-11-01 00:00:00</td>\n",
       "      <td>One year</td>\n",
       "      <td>No</td>\n",
       "      <td>Credit card (automatic)</td>\n",
       "      <td>19.05</td>\n",
       "      <td>990.45</td>\n",
       "      <td>0.0</td>\n",
       "      <td>Fiber optic</td>\n",
       "      <td>1.4</td>\n",
       "      <td>Female</td>\n",
       "      <td>0.0</td>\n",
       "      <td>Yes</td>\n",
       "      <td>No</td>\n",
       "      <td>No</td>\n",
       "    </tr>\n",
       "    <tr>\n",
       "      <th>3846</th>\n",
       "      <td>1767-TGTKO</td>\n",
       "      <td>2019-06-01</td>\n",
       "      <td>2019-11-01 00:00:00</td>\n",
       "      <td>Month-to-month</td>\n",
       "      <td>Yes</td>\n",
       "      <td>Electronic check</td>\n",
       "      <td>45.45</td>\n",
       "      <td>411.75</td>\n",
       "      <td>0.0</td>\n",
       "      <td>DSL</td>\n",
       "      <td>0.0</td>\n",
       "      <td>Female</td>\n",
       "      <td>0.0</td>\n",
       "      <td>Yes</td>\n",
       "      <td>Yes</td>\n",
       "      <td>No</td>\n",
       "    </tr>\n",
       "    <tr>\n",
       "      <th>6185</th>\n",
       "      <td>8033-VCZGH</td>\n",
       "      <td>2015-12-01</td>\n",
       "      <td>2019-11-01 00:00:00</td>\n",
       "      <td>One year</td>\n",
       "      <td>Yes</td>\n",
       "      <td>Electronic check</td>\n",
       "      <td>103.95</td>\n",
       "      <td>5231.30</td>\n",
       "      <td>0.0</td>\n",
       "      <td>Fiber optic</td>\n",
       "      <td>4.0</td>\n",
       "      <td>Male</td>\n",
       "      <td>0.0</td>\n",
       "      <td>Yes</td>\n",
       "      <td>No</td>\n",
       "      <td>Yes</td>\n",
       "    </tr>\n",
       "    <tr>\n",
       "      <th>613</th>\n",
       "      <td>6689-VRRTK</td>\n",
       "      <td>2016-06-01</td>\n",
       "      <td>2019-11-01 00:00:00</td>\n",
       "      <td>One year</td>\n",
       "      <td>Yes</td>\n",
       "      <td>Credit card (automatic)</td>\n",
       "      <td>109.80</td>\n",
       "      <td>4860.35</td>\n",
       "      <td>0.0</td>\n",
       "      <td>Fiber optic</td>\n",
       "      <td>5.0</td>\n",
       "      <td>Female</td>\n",
       "      <td>1.0</td>\n",
       "      <td>No</td>\n",
       "      <td>No</td>\n",
       "      <td>Yes</td>\n",
       "    </tr>\n",
       "    <tr>\n",
       "      <th>2680</th>\n",
       "      <td>6997-UVGOX</td>\n",
       "      <td>2014-03-01</td>\n",
       "      <td>2019-11-01 00:00:00</td>\n",
       "      <td>Two year</td>\n",
       "      <td>No</td>\n",
       "      <td>Bank transfer (automatic)</td>\n",
       "      <td>85.45</td>\n",
       "      <td>6029.90</td>\n",
       "      <td>0.0</td>\n",
       "      <td>DSL</td>\n",
       "      <td>6.0</td>\n",
       "      <td>Male</td>\n",
       "      <td>0.0</td>\n",
       "      <td>Yes</td>\n",
       "      <td>Yes</td>\n",
       "      <td>No</td>\n",
       "    </tr>\n",
       "  </tbody>\n",
       "</table>\n",
       "</div>"
      ],
      "text/plain": [
       "      customerID  BeginDate              EndDate            Type  \\\n",
       "941   0811-GSDTP 2019-01-01  2019-11-01 00:00:00  Month-to-month   \n",
       "1404  1970-KKFWL 2017-03-01  2019-11-01 00:00:00        Two year   \n",
       "5515  2892-GESUL 2018-08-01  2019-11-01 00:00:00        Two year   \n",
       "3684  2842-BCQGE 2016-07-01  2019-11-01 00:00:00  Month-to-month   \n",
       "7017  4807-IZYOZ 2015-11-01  2019-11-01 00:00:00        Two year   \n",
       "3643  9451-WLYRI 2015-09-01  2019-11-01 00:00:00        One year   \n",
       "3846  1767-TGTKO 2019-06-01  2019-11-01 00:00:00  Month-to-month   \n",
       "6185  8033-VCZGH 2015-12-01  2019-11-01 00:00:00        One year   \n",
       "613   6689-VRRTK 2016-06-01  2019-11-01 00:00:00        One year   \n",
       "2680  6997-UVGOX 2014-03-01  2019-11-01 00:00:00        Two year   \n",
       "\n",
       "     PaperlessBilling              PaymentMethod  MonthlyCharges  \\\n",
       "941                No           Electronic check           30.15   \n",
       "1404               No  Bank transfer (automatic)           23.30   \n",
       "5515               No               Mailed check           19.35   \n",
       "3684              Yes    Credit card (automatic)           75.35   \n",
       "7017               No  Bank transfer (automatic)           20.65   \n",
       "3643               No    Credit card (automatic)           19.05   \n",
       "3846              Yes           Electronic check           45.45   \n",
       "6185              Yes           Electronic check          103.95   \n",
       "613               Yes    Credit card (automatic)          109.80   \n",
       "2680               No  Bank transfer (automatic)           85.45   \n",
       "\n",
       "      TotalCharges  Churn InternetService  NumOfServices  gender  \\\n",
       "941         382.20    0.0             DSL            1.0  Female   \n",
       "1404        797.10    0.0     Fiber optic            0.6  Female   \n",
       "5515        309.25    0.0     Fiber optic            0.6  Female   \n",
       "3684       3161.40    0.0     Fiber optic            0.0    Male   \n",
       "7017       1020.75    0.0     Fiber optic            1.8  Female   \n",
       "3643        990.45    0.0     Fiber optic            1.4  Female   \n",
       "3846        411.75    0.0             DSL            0.0  Female   \n",
       "6185       5231.30    0.0     Fiber optic            4.0    Male   \n",
       "613        4860.35    0.0     Fiber optic            5.0  Female   \n",
       "2680       6029.90    0.0             DSL            6.0    Male   \n",
       "\n",
       "      SeniorCitizen Partner Dependents MultipleLines  \n",
       "941             0.0      No        Yes            No  \n",
       "1404            0.0      No         No           Yes  \n",
       "5515            0.0     Yes        Yes            No  \n",
       "3684            0.0      No         No           Yes  \n",
       "7017            0.0      No         No            No  \n",
       "3643            0.0     Yes         No            No  \n",
       "3846            0.0     Yes        Yes            No  \n",
       "6185            0.0     Yes         No           Yes  \n",
       "613             1.0      No         No           Yes  \n",
       "2680            0.0     Yes        Yes            No  "
      ]
     },
     "execution_count": 60,
     "metadata": {},
     "output_type": "execute_result"
    }
   ],
   "source": [
    "#Obtener una muestra para visualizar los datos rellenados \n",
    "data_merged.sample(10, random_state=123)"
   ]
  },
  {
   "cell_type": "code",
   "execution_count": 61,
   "id": "292f1c60",
   "metadata": {},
   "outputs": [],
   "source": [
    "data_graphics = data_merged"
   ]
  },
  {
   "cell_type": "code",
   "execution_count": 62,
   "id": "bd39b9f0",
   "metadata": {},
   "outputs": [
    {
     "data": {
      "text/plain": [
       "InternetService\n",
       "DSL            2421\n",
       "Fiber optic    4622\n",
       "Name: count, dtype: int64"
      ]
     },
     "execution_count": 62,
     "metadata": {},
     "output_type": "execute_result"
    }
   ],
   "source": [
    "#Verificamos que no existan valores ausentes en el dataframe modificado\n",
    "valores_ausentes(data_merged['InternetService'])"
   ]
  },
  {
   "cell_type": "code",
   "execution_count": 63,
   "id": "ae5c3d09",
   "metadata": {},
   "outputs": [
    {
     "name": "stdout",
     "output_type": "stream",
     "text": [
      "Index(['customer_id', 'begin_date', 'end_date', 'type', 'paperless_billing',\n",
      "       'payment_method', 'monthly_charges', 'total_charges', 'churn',\n",
      "       'internet_service', 'num_of_services', 'gender', 'senior_citizen',\n",
      "       'partner', 'dependents', 'multiple_lines'],\n",
      "      dtype='object')\n"
     ]
    }
   ],
   "source": [
    "#Renombrar las columnas en formato snake_case para facilitar su manejo\n",
    "columns_new ={\n",
    "    \"customerID\": \"customer_id\",\n",
    "    \"BeginDate\": \"begin_date\",\n",
    "    \"EndDate\": \"end_date\",\n",
    "    \"Type\": \"type\",\n",
    "    \"PaperlessBilling\": \"paperless_billing\",\n",
    "    \"PaymentMethod\": \"payment_method\",\n",
    "    \"MonthlyCharges\": \"monthly_charges\",\n",
    "    \"TotalCharges\": \"total_charges\",\n",
    "    \"Churn\": \"churn\",\n",
    "    \"InternetService\": \"internet_service\",\n",
    "    \"NumOfServices\": \"num_of_services\",\n",
    "    \"gender\": \"gender\",\n",
    "    \"SeniorCitizen\": \"senior_citizen\",\n",
    "    \"Partner\": \"partner\",\n",
    "    \"Dependents\": \"dependents\",\n",
    "    \"MultipleLines\": \"multiple_lines\",\n",
    "    }\n",
    "\n",
    "data_merged = data_merged.rename(columns = columns_new)\n",
    "print(data_merged.columns)\n"
   ]
  },
  {
   "cell_type": "code",
   "execution_count": 64,
   "id": "0feeb9e4",
   "metadata": {},
   "outputs": [],
   "source": [
    "#Transformar los datos para poder utilizarlos en los modelos \n",
    "data_transformed = data_merged\n",
    "\n",
    "data_transformed[['type','paperless_billing', 'payment_method', 'internet_service', 'gender', 'partner', 'dependents', 'multiple_lines']] = OrdinalEncoder().fit_transform(data_merged[['type','paperless_billing', 'payment_method', 'internet_service', 'gender', 'partner', 'dependents', 'multiple_lines']])\n",
    "\n",
    "data_transformed = data_transformed.drop(columns =['customer_id', 'begin_date', 'end_date'])\n",
    "data_transformed = pd.get_dummies(data_transformed, drop_first=True).astype(int)"
   ]
  },
  {
   "cell_type": "code",
   "execution_count": 65,
   "id": "648368a7",
   "metadata": {},
   "outputs": [
    {
     "data": {
      "text/html": [
       "<div>\n",
       "<style scoped>\n",
       "    .dataframe tbody tr th:only-of-type {\n",
       "        vertical-align: middle;\n",
       "    }\n",
       "\n",
       "    .dataframe tbody tr th {\n",
       "        vertical-align: top;\n",
       "    }\n",
       "\n",
       "    .dataframe thead th {\n",
       "        text-align: right;\n",
       "    }\n",
       "</style>\n",
       "<table border=\"1\" class=\"dataframe\">\n",
       "  <thead>\n",
       "    <tr style=\"text-align: right;\">\n",
       "      <th></th>\n",
       "      <th>type</th>\n",
       "      <th>paperless_billing</th>\n",
       "      <th>payment_method</th>\n",
       "      <th>monthly_charges</th>\n",
       "      <th>total_charges</th>\n",
       "      <th>churn</th>\n",
       "      <th>internet_service</th>\n",
       "      <th>num_of_services</th>\n",
       "      <th>gender</th>\n",
       "      <th>senior_citizen</th>\n",
       "      <th>partner</th>\n",
       "      <th>dependents</th>\n",
       "      <th>multiple_lines</th>\n",
       "    </tr>\n",
       "  </thead>\n",
       "  <tbody>\n",
       "    <tr>\n",
       "      <th>941</th>\n",
       "      <td>0</td>\n",
       "      <td>0</td>\n",
       "      <td>2</td>\n",
       "      <td>30</td>\n",
       "      <td>382</td>\n",
       "      <td>0</td>\n",
       "      <td>0</td>\n",
       "      <td>1</td>\n",
       "      <td>0</td>\n",
       "      <td>0</td>\n",
       "      <td>0</td>\n",
       "      <td>1</td>\n",
       "      <td>0</td>\n",
       "    </tr>\n",
       "    <tr>\n",
       "      <th>1404</th>\n",
       "      <td>2</td>\n",
       "      <td>0</td>\n",
       "      <td>0</td>\n",
       "      <td>23</td>\n",
       "      <td>797</td>\n",
       "      <td>0</td>\n",
       "      <td>1</td>\n",
       "      <td>0</td>\n",
       "      <td>0</td>\n",
       "      <td>0</td>\n",
       "      <td>0</td>\n",
       "      <td>0</td>\n",
       "      <td>1</td>\n",
       "    </tr>\n",
       "    <tr>\n",
       "      <th>5515</th>\n",
       "      <td>2</td>\n",
       "      <td>0</td>\n",
       "      <td>3</td>\n",
       "      <td>19</td>\n",
       "      <td>309</td>\n",
       "      <td>0</td>\n",
       "      <td>1</td>\n",
       "      <td>0</td>\n",
       "      <td>0</td>\n",
       "      <td>0</td>\n",
       "      <td>1</td>\n",
       "      <td>1</td>\n",
       "      <td>0</td>\n",
       "    </tr>\n",
       "    <tr>\n",
       "      <th>3684</th>\n",
       "      <td>0</td>\n",
       "      <td>1</td>\n",
       "      <td>1</td>\n",
       "      <td>75</td>\n",
       "      <td>3161</td>\n",
       "      <td>0</td>\n",
       "      <td>1</td>\n",
       "      <td>0</td>\n",
       "      <td>1</td>\n",
       "      <td>0</td>\n",
       "      <td>0</td>\n",
       "      <td>0</td>\n",
       "      <td>1</td>\n",
       "    </tr>\n",
       "    <tr>\n",
       "      <th>7017</th>\n",
       "      <td>2</td>\n",
       "      <td>0</td>\n",
       "      <td>0</td>\n",
       "      <td>20</td>\n",
       "      <td>1020</td>\n",
       "      <td>0</td>\n",
       "      <td>1</td>\n",
       "      <td>1</td>\n",
       "      <td>0</td>\n",
       "      <td>0</td>\n",
       "      <td>0</td>\n",
       "      <td>0</td>\n",
       "      <td>0</td>\n",
       "    </tr>\n",
       "    <tr>\n",
       "      <th>3643</th>\n",
       "      <td>1</td>\n",
       "      <td>0</td>\n",
       "      <td>1</td>\n",
       "      <td>19</td>\n",
       "      <td>990</td>\n",
       "      <td>0</td>\n",
       "      <td>1</td>\n",
       "      <td>1</td>\n",
       "      <td>0</td>\n",
       "      <td>0</td>\n",
       "      <td>1</td>\n",
       "      <td>0</td>\n",
       "      <td>0</td>\n",
       "    </tr>\n",
       "    <tr>\n",
       "      <th>3846</th>\n",
       "      <td>0</td>\n",
       "      <td>1</td>\n",
       "      <td>2</td>\n",
       "      <td>45</td>\n",
       "      <td>411</td>\n",
       "      <td>0</td>\n",
       "      <td>0</td>\n",
       "      <td>0</td>\n",
       "      <td>0</td>\n",
       "      <td>0</td>\n",
       "      <td>1</td>\n",
       "      <td>1</td>\n",
       "      <td>0</td>\n",
       "    </tr>\n",
       "    <tr>\n",
       "      <th>6185</th>\n",
       "      <td>1</td>\n",
       "      <td>1</td>\n",
       "      <td>2</td>\n",
       "      <td>103</td>\n",
       "      <td>5231</td>\n",
       "      <td>0</td>\n",
       "      <td>1</td>\n",
       "      <td>4</td>\n",
       "      <td>1</td>\n",
       "      <td>0</td>\n",
       "      <td>1</td>\n",
       "      <td>0</td>\n",
       "      <td>1</td>\n",
       "    </tr>\n",
       "    <tr>\n",
       "      <th>613</th>\n",
       "      <td>1</td>\n",
       "      <td>1</td>\n",
       "      <td>1</td>\n",
       "      <td>109</td>\n",
       "      <td>4860</td>\n",
       "      <td>0</td>\n",
       "      <td>1</td>\n",
       "      <td>5</td>\n",
       "      <td>0</td>\n",
       "      <td>1</td>\n",
       "      <td>0</td>\n",
       "      <td>0</td>\n",
       "      <td>1</td>\n",
       "    </tr>\n",
       "    <tr>\n",
       "      <th>2680</th>\n",
       "      <td>2</td>\n",
       "      <td>0</td>\n",
       "      <td>0</td>\n",
       "      <td>85</td>\n",
       "      <td>6029</td>\n",
       "      <td>0</td>\n",
       "      <td>0</td>\n",
       "      <td>6</td>\n",
       "      <td>1</td>\n",
       "      <td>0</td>\n",
       "      <td>1</td>\n",
       "      <td>1</td>\n",
       "      <td>0</td>\n",
       "    </tr>\n",
       "  </tbody>\n",
       "</table>\n",
       "</div>"
      ],
      "text/plain": [
       "      type  paperless_billing  payment_method  monthly_charges  total_charges  \\\n",
       "941      0                  0               2               30            382   \n",
       "1404     2                  0               0               23            797   \n",
       "5515     2                  0               3               19            309   \n",
       "3684     0                  1               1               75           3161   \n",
       "7017     2                  0               0               20           1020   \n",
       "3643     1                  0               1               19            990   \n",
       "3846     0                  1               2               45            411   \n",
       "6185     1                  1               2              103           5231   \n",
       "613      1                  1               1              109           4860   \n",
       "2680     2                  0               0               85           6029   \n",
       "\n",
       "      churn  internet_service  num_of_services  gender  senior_citizen  \\\n",
       "941       0                 0                1       0               0   \n",
       "1404      0                 1                0       0               0   \n",
       "5515      0                 1                0       0               0   \n",
       "3684      0                 1                0       1               0   \n",
       "7017      0                 1                1       0               0   \n",
       "3643      0                 1                1       0               0   \n",
       "3846      0                 0                0       0               0   \n",
       "6185      0                 1                4       1               0   \n",
       "613       0                 1                5       0               1   \n",
       "2680      0                 0                6       1               0   \n",
       "\n",
       "      partner  dependents  multiple_lines  \n",
       "941         0           1               0  \n",
       "1404        0           0               1  \n",
       "5515        1           1               0  \n",
       "3684        0           0               1  \n",
       "7017        0           0               0  \n",
       "3643        1           0               0  \n",
       "3846        1           1               0  \n",
       "6185        1           0               1  \n",
       "613         0           0               1  \n",
       "2680        1           1               0  "
      ]
     },
     "execution_count": 65,
     "metadata": {},
     "output_type": "execute_result"
    }
   ],
   "source": [
    "#Obtenemos una muestra del DF transformado\n",
    "data_transformed.sample(10, random_state=123)"
   ]
  },
  {
   "cell_type": "markdown",
   "id": "001b3d6c",
   "metadata": {},
   "source": [
    "#### Estadistica descriptiva"
   ]
  },
  {
   "cell_type": "code",
   "execution_count": 66,
   "id": "2859d0f0",
   "metadata": {},
   "outputs": [
    {
     "data": {
      "image/png": "[encoded data removed]",
      "text/plain": [
       "<Figure size 1000x600 with 1 Axes>"
      ]
     },
     "metadata": {},
     "output_type": "display_data"
    }
   ],
   "source": [
    "data_merged['begin_date'] = pd.to_datetime(data_merged['begin_date'])\n",
    "monthly_data = data_merged.groupby(data_merged['begin_date'].dt.to_period('M')).size()\n",
    "\n",
    "plt.figure(figsize=(10, 6))\n",
    "monthly_data.plot(kind='line', color='m')\n",
    "plt.title('Tendencia de Contratos por Mes')\n",
    "plt.xlabel('Mes')\n",
    "plt.ylabel('Número de Contratos')\n",
    "plt.show()"
   ]
  },
  {
   "cell_type": "markdown",
   "id": "2c60069a",
   "metadata": {},
   "source": [
    "A principios de 2014 hubo una gran cantidad de contrataciones, sin embargo, entre 2015 y 2018 disminuyó drásticamente, hasta que en 2019 este numero volvió a subir.  "
   ]
  },
  {
   "cell_type": "code",
   "execution_count": 67,
   "id": "f8e6a483",
   "metadata": {},
   "outputs": [
    {
     "data": {
      "image/png": "[encoded data removed]",
      "text/plain": [
       "<Figure size 1500x400 with 3 Axes>"
      ]
     },
     "metadata": {},
     "output_type": "display_data"
    }
   ],
   "source": [
    "cols = ['Type', 'PaymentMethod', 'InternetService']\n",
    "\n",
    "fig, axes = plt.subplots(1, len(cols), figsize=(15,4))\n",
    "\n",
    "sns.countplot(x=data_graphics['Type'], data=data_graphics, ax=axes[0], color='c')\n",
    "sns.countplot(x=data_graphics['PaymentMethod'], ax=axes[1],  color='m', )\n",
    "sns.countplot(x=data_graphics['InternetService'], ax=axes[2],  color='skyblue')\n",
    "\n",
    "axes[0].set_title('Tipo de cobro')\n",
    "axes[1].set_title('Método de PAgo')\n",
    "axes[2].set_title('Servicio de Internet')\n",
    "\n",
    "fig.tight_layout()\n",
    "\n",
    "\n",
    "plt.show()"
   ]
  },
  {
   "cell_type": "markdown",
   "id": "73c982bd",
   "metadata": {},
   "source": [
    "Cantidad de usuarios por tipo de cobro, método de pago y tipo de Servicio de Internet"
   ]
  },
  {
   "cell_type": "code",
   "execution_count": 68,
   "id": "ced788d8",
   "metadata": {},
   "outputs": [
    {
     "data": {
      "image/png": "[encoded data removed]",
      "text/plain": [
       "<Figure size 600x600 with 1 Axes>"
      ]
     },
     "metadata": {},
     "output_type": "display_data"
    }
   ],
   "source": [
    "churn_counts = data_graphics['Churn'].value_counts()\n",
    "plt.figure(figsize=(6, 6))\n",
    "plt.pie(churn_counts, labels=churn_counts.index, autopct='%1.1f%%', colors=['skyblue', 'm'])\n",
    "plt.title('Proporción de clientes que cancelan')\n",
    "plt.show()"
   ]
  },
  {
   "cell_type": "markdown",
   "id": "6b5b3d8e",
   "metadata": {},
   "source": [
    "Grafica de pay de los usuarios que han cancelado, 1.0 = Sí han cancelado, 0.0 = no han cancelado.\n",
    "El 26.5% ha cancelado su contrado con la empresa."
   ]
  },
  {
   "cell_type": "code",
   "execution_count": 69,
   "id": "1df72e40",
   "metadata": {},
   "outputs": [
    {
     "data": {
      "image/png": "[encoded data removed]",
      "text/plain": [
       "<Figure size 800x600 with 1 Axes>"
      ]
     },
     "metadata": {},
     "output_type": "display_data"
    }
   ],
   "source": [
    "churn_by_service = data_graphics.groupby(['gender', 'Churn']).size().unstack()\n",
    "churn_by_service.plot(kind='bar', stacked=True, figsize=(8, 6), color=['navy', 'c'])\n",
    "plt.title('Cancelación por Genero')\n",
    "plt.xlabel('Género')\n",
    "plt.ylabel('Cantidad')\n",
    "plt.legend(title='Churn')\n",
    "plt.show()"
   ]
  },
  {
   "cell_type": "markdown",
   "id": "660e3449",
   "metadata": {},
   "source": [
    "No se observan diferencias en el numero de cancelaciones de acuerdo al género del cliente"
   ]
  },
  {
   "cell_type": "code",
   "execution_count": 70,
   "id": "a9824188",
   "metadata": {},
   "outputs": [
    {
     "data": {
      "image/png": "[encoded data removed]",
      "text/plain": [
       "<Figure size 1200x800 with 2 Axes>"
      ]
     },
     "metadata": {},
     "output_type": "display_data"
    }
   ],
   "source": [
    "#Matriz de correlacion que permite visualizar la relación entre columnas \n",
    "data_to_correlate = data_transformed\n",
    "corr = data_to_correlate.corr()\n",
    "plt.figure(figsize=(12, 8))\n",
    "\n",
    "sns.heatmap(\n",
    "    corr, \n",
    "    annot=True, \n",
    "    cmap='coolwarm',  \n",
    "    fmt=\".2f\",        \n",
    "    linewidths=0.5,   \n",
    "    vmin=-1, vmax=1,  \n",
    "    cbar_kws={\"shrink\": 0.8}  \n",
    ")\n",
    "\n",
    "plt.title(\"Matriz de Correlación\", fontsize=16, pad=20)\n",
    "plt.xticks(rotation=45, ha='right')  \n",
    "plt.yticks(rotation=0)               \n",
    "plt.tight_layout()                   \n",
    "plt.show()"
   ]
  },
  {
   "cell_type": "markdown",
   "id": "bd356df3",
   "metadata": {},
   "source": [
    "Las columnas con correlacion cercana a 0, con respecto a la columna churn son: \"gender\" y \"multiple_lines\", por lo que serán eliminadas del modelo predictivo."
   ]
  },
  {
   "cell_type": "markdown",
   "id": "d9463f80",
   "metadata": {},
   "source": [
    "### Entrenamiento del Modelo"
   ]
  },
  {
   "cell_type": "code",
   "execution_count": 71,
   "id": "31e36a83",
   "metadata": {},
   "outputs": [],
   "source": [
    "features = data_merged.drop(columns=['churn', 'customer_id', 'begin_date', 'end_date', 'gender', 'multiple_lines'])  \n",
    "target = data_merged['churn']\n",
    "\n",
    "features_train, features_others, target_train, target_others = train_test_split(features, target, test_size=0.4, random_state=123)\n",
    "features_valid, features_test, target_valid, target_test = train_test_split(features_others, target_others, test_size=0.5, random_state=123)\n",
    "\n",
    "numeric_features = features.select_dtypes(include=['float64', 'int64']).columns\n",
    "categorical_features = features.select_dtypes(include=['object']).columns\n",
    "\n",
    "numeric_transformer = Pipeline(steps=[\n",
    "    ('imputer', SimpleImputer(strategy='mean')) \n",
    "])\n",
    "\n",
    "categorical_transformer = Pipeline(steps=[\n",
    "    ('imputer', SimpleImputer(strategy='most_frequent')),  \n",
    "    ('onehot', OneHotEncoder(handle_unknown='ignore'))     \n",
    "])\n",
    "\n",
    "preprocessor = ColumnTransformer(\n",
    "    transformers=[\n",
    "        ('num', numeric_transformer, numeric_features),\n",
    "        ('cat', categorical_transformer, categorical_features)\n",
    "    ])\n",
    "\n"
   ]
  },
  {
   "cell_type": "code",
   "execution_count": 72,
   "id": "f0b5092e",
   "metadata": {
    "scrolled": true
   },
   "outputs": [
    {
     "name": "stdout",
     "output_type": "stream",
     "text": [
      "(4225, 10)\n",
      "(1409, 10)\n",
      "(1409, 10)\n",
      "(4225,)\n",
      "(1409,)\n",
      "(1409,)\n"
     ]
    }
   ],
   "source": [
    "print(features_train.shape)\n",
    "print(features_valid.shape)\n",
    "print(features_test.shape) \n",
    "print(target_train.shape)\n",
    "print(target_valid.shape)\n",
    "print(target_test.shape)"
   ]
  },
  {
   "cell_type": "markdown",
   "id": "b8cb1b68",
   "metadata": {},
   "source": [
    "#### Linear Regression"
   ]
  },
  {
   "cell_type": "code",
   "execution_count": 73,
   "id": "dc638f9a",
   "metadata": {},
   "outputs": [
    {
     "name": "stdout",
     "output_type": "stream",
     "text": [
      "Linear Regression - Mean Squared Error: 0.15107742791606502\n",
      "AUC-ROC: 0.8114721508921743\n"
     ]
    }
   ],
   "source": [
    "model_lr_pipeline = Pipeline(steps=[\n",
    "    ('preprocessor', preprocessor),\n",
    "    ('regressor', LinearRegression())\n",
    "])\n",
    "\n",
    "model_lr_pipeline.fit(features_train, target_train)\n",
    "\n",
    "target_lr_proba = model_lr_pipeline.predict(features_test)\n",
    "\n",
    "auc_roc_lr = roc_auc_score (target_test, target_lr_proba)\n",
    "\n",
    "print(\"Linear Regression - Mean Squared Error:\", mean_squared_error(target_test, target_lr_proba))\n",
    "print(\"AUC-ROC:\", auc_roc_lr)\n"
   ]
  },
  {
   "cell_type": "markdown",
   "id": "cab10db1",
   "metadata": {},
   "source": [
    "#### Random Forest Classifier"
   ]
  },
  {
   "cell_type": "code",
   "execution_count": 74,
   "id": "4a17d3bd",
   "metadata": {},
   "outputs": [
    {
     "name": "stdout",
     "output_type": "stream",
     "text": [
      "AUC-ROC: 0.7056698524607601\n",
      "              precision    recall  f1-score   support\n",
      "\n",
      "           0       0.83      0.91      0.87      1023\n",
      "           1       0.67      0.51      0.58       386\n",
      "\n",
      "    accuracy                           0.80      1409\n",
      "   macro avg       0.75      0.71      0.72      1409\n",
      "weighted avg       0.79      0.80      0.79      1409\n",
      "\n"
     ]
    }
   ],
   "source": [
    "features_encoded = data_transformed.drop(columns=['churn', 'gender', 'multiple_lines'])  \n",
    "target_encoded = data_transformed['churn']\n",
    "\n",
    "features_train_encoded, features_others_encoded, target_train_encoded, target_others_encoded = train_test_split(features_encoded, target_encoded, test_size=0.4, random_state=123)\n",
    "features_valid_encoded, features_test_encoded, target_valid_encoded, target_test_encoded = train_test_split(features_others_encoded, target_others_encoded, test_size=0.5, random_state=123)\n",
    "\n",
    "\n",
    "#model_rf = RandomForestClassifier()\n",
    "#param_grid_rf = {\n",
    "#    'n_estimators': [100, 200, 300, 400],  \n",
    "#    'max_depth': [None, 5, 10, 20],      \n",
    "#    'min_samples_split': [2, 5, 10],      \n",
    "#    'min_samples_leaf': [1, 2, 4, 6]        \n",
    "#}\n",
    "\n",
    "#grid_search_rf = GridSearchCV(model_rf, param_grid_rf, cv=5, verbose=1)\n",
    "\n",
    "#grid_search_rf.fit(features_train_encoded, target_train_encoded)\n",
    "\n",
    "#print(f\"Mejores parámetros para el Random Forest:\", grid_search_rf.best_params_)\n",
    "#best_rf_model = grid_search_rf.best_estimator_\n",
    "#target_rf_predict = best_rf_model.predict(features_test_encoded)\n",
    "#auc_roc_rf_encoded = roc_auc_score (target_test, target_rf_predict)\n",
    "#print(\"AUC-ROC:\", auc_roc_rf_encoded)                        \n",
    "\n",
    "model_rfc = RandomForestClassifier(n_estimators=400, max_depth=10, min_samples_leaf= 2, min_samples_split= 5)\n",
    "model_rfc.fit(features_train_encoded, target_train_encoded)\n",
    "target_rf_proba = model_rfc.predict(features_test_encoded)\n",
    "auc_roc_rf = roc_auc_score (target_test, target_rf_proba)\n",
    "print(\"AUC-ROC:\", auc_roc_rf)\n",
    "print(classification_report(target_test_encoded, target_rf_proba))\n"
   ]
  },
  {
   "cell_type": "code",
   "execution_count": 75,
   "id": "175d6d97",
   "metadata": {},
   "outputs": [
    {
     "data": {
      "text/html": [
       "<div>\n",
       "<style scoped>\n",
       "    .dataframe tbody tr th:only-of-type {\n",
       "        vertical-align: middle;\n",
       "    }\n",
       "\n",
       "    .dataframe tbody tr th {\n",
       "        vertical-align: top;\n",
       "    }\n",
       "\n",
       "    .dataframe thead th {\n",
       "        text-align: right;\n",
       "    }\n",
       "</style>\n",
       "<table border=\"1\" class=\"dataframe\">\n",
       "  <thead>\n",
       "    <tr style=\"text-align: right;\">\n",
       "      <th></th>\n",
       "      <th>customer_id</th>\n",
       "      <th>begin_date</th>\n",
       "      <th>end_date</th>\n",
       "      <th>type</th>\n",
       "      <th>paperless_billing</th>\n",
       "      <th>payment_method</th>\n",
       "      <th>monthly_charges</th>\n",
       "      <th>total_charges</th>\n",
       "      <th>churn</th>\n",
       "      <th>internet_service</th>\n",
       "      <th>num_of_services</th>\n",
       "      <th>gender</th>\n",
       "      <th>senior_citizen</th>\n",
       "      <th>partner</th>\n",
       "      <th>dependents</th>\n",
       "      <th>multiple_lines</th>\n",
       "    </tr>\n",
       "  </thead>\n",
       "  <tbody>\n",
       "    <tr>\n",
       "      <th>2398</th>\n",
       "      <td>7389-KBFIT</td>\n",
       "      <td>2019-12-01</td>\n",
       "      <td>2019-11-01 00:00:00</td>\n",
       "      <td>0.0</td>\n",
       "      <td>1.0</td>\n",
       "      <td>3.0</td>\n",
       "      <td>30.25</td>\n",
       "      <td>63.75</td>\n",
       "      <td>0.0</td>\n",
       "      <td>0.0</td>\n",
       "      <td>1.0</td>\n",
       "      <td>0.0</td>\n",
       "      <td>0.0</td>\n",
       "      <td>1.0</td>\n",
       "      <td>1.0</td>\n",
       "      <td>0.0</td>\n",
       "    </tr>\n",
       "  </tbody>\n",
       "</table>\n",
       "</div>"
      ],
      "text/plain": [
       "     customer_id begin_date             end_date  type  paperless_billing  \\\n",
       "2398  7389-KBFIT 2019-12-01  2019-11-01 00:00:00   0.0                1.0   \n",
       "\n",
       "      payment_method  monthly_charges  total_charges  churn  internet_service  \\\n",
       "2398             3.0            30.25          63.75    0.0               0.0   \n",
       "\n",
       "      num_of_services  gender  senior_citizen  partner  dependents  \\\n",
       "2398              1.0     0.0             0.0      1.0         1.0   \n",
       "\n",
       "      multiple_lines  \n",
       "2398             0.0  "
      ]
     },
     "execution_count": 75,
     "metadata": {},
     "output_type": "execute_result"
    }
   ],
   "source": [
    "data_merged.sample()"
   ]
  },
  {
   "cell_type": "markdown",
   "id": "27476b40",
   "metadata": {},
   "source": [
    "#### Modelo XGBClassifier"
   ]
  },
  {
   "cell_type": "code",
   "execution_count": 78,
   "id": "db0ff5b7",
   "metadata": {
    "scrolled": true
   },
   "outputs": [
    {
     "name": "stdout",
     "output_type": "stream",
     "text": [
      "              precision    recall  f1-score   support\n",
      "\n",
      "         0.0       0.82      0.88      0.85      1023\n",
      "         1.0       0.61      0.50      0.55       386\n",
      "\n",
      "    accuracy                           0.78      1409\n",
      "   macro avg       0.72      0.69      0.70      1409\n",
      "weighted avg       0.76      0.78      0.77      1409\n",
      "\n",
      "AUC-ROC: 0.6885873611596494\n"
     ]
    }
   ],
   "source": [
    "xgb_pipeline = Pipeline(steps=[\n",
    "    ('preprocessor', preprocessor),\n",
    "    ('classifier', XGBClassifier(random_state=123))\n",
    "])\n",
    "\n",
    "#param_grid = {\n",
    "#    'classifier__n_estimators': [100, 200, 300],  # Número de árboles\n",
    "#    'classifier__learning_rate': [0.01, 0.05, 0.1, 0.2],  # Tasa de aprendizaje\n",
    "#    'classifier__max_depth': [3, 4, 5, 6],  # Profundidad de los árboles\n",
    "#    'classifier__min_child_weight': [1, 3, 5],  # Mínimo peso por nodo hijo\n",
    "#    'classifier__subsample': [0.8, 0.9, 1.0],  # Proporción de muestras por árbol\n",
    "#    'classifier__colsample_bytree': [0.8, 0.9, 1.0],  # Proporción de características por árbol\n",
    "#    'classifier__gamma': [0, 0.1, 0.3],  # Regularización para la complejidad del árbol\n",
    "#}\n",
    "#\n",
    "#grid_search = GridSearchCV(estimator=xgb_pipeline, param_grid=param_grid, \n",
    "#                           cv=3, n_jobs=-1, verbose=2, scoring='roc_auc')\n",
    "#\n",
    "#\n",
    "#grid_search.fit(features_train, target_train)\n",
    "#\n",
    "#\n",
    "#print(\"Mejores parámetros encontrados:\", grid_search.best_params_)\n",
    "#\n",
    "#\n",
    "#best_xgb_model = grid_search.best_estimator_\n",
    "#\n",
    "# Realizar predicciones\n",
    "#xgb_predictions = best_xgb_model.predict(features_test)\n",
    "#\n",
    "#\n",
    "#auc_roc_xgb = roc_auc_score(target_test, xgb_predictions)\n",
    "#\n",
    "#\n",
    "#print(\"XGBClassifier - Clasification Report:\")\n",
    "#print(classification_report(target_test, xgb_predictions))\n",
    "#print(\"AUC-ROC:\", auc_roc_xgb)\n",
    "\n",
    "model_xgb = XGBClassifier(random_state=123)\n",
    "model_xgb.fit(features_train, target_train)\n",
    "target_xgb_proba = model_xgb.predict(features_test)\n",
    "auc_roc_xgb = roc_auc_score (target_test, target_xgb_proba)\n",
    "print(classification_report(target_test, target_xgb_proba))\n",
    "print(\"AUC-ROC:\", auc_roc_xgb)\n"
   ]
  },
  {
   "cell_type": "code",
   "execution_count": 77,
   "id": "6fb25a4f",
   "metadata": {},
   "outputs": [
    {
     "data": {
      "image/png": "[encoded data removed]",
      "text/plain": [
       "<Figure size 1000x600 with 1 Axes>"
      ]
     },
     "metadata": {},
     "output_type": "display_data"
    }
   ],
   "source": [
    "#Graficar las AUC-ROC de los tres modelos para comparar\n",
    "def plot_roc_curve(fpr, tpr, label=None):\n",
    "    plt.plot(fpr, tpr, linewidth=2, label=label)\n",
    "    plt.plot([0, 1], [0, 1], 'k--')  \n",
    "    plt.axis([0, 1, 0, 1])\n",
    "    plt.xlabel('False Positive Rate')\n",
    "    plt.ylabel('True Positive Rate')\n",
    "    plt.title('ROC Curve')\n",
    "\n",
    "fpr_lr, tpr_lr, thresholds_lr = roc_curve(target_test, target_lr_proba)\n",
    "fpr_rf, tpr_rf, thresholds_rf = roc_curve(target_test, target_rf_proba)\n",
    "fpr_xgb, tpr_xgb, thresholds_xgb = roc_curve(target_test, target_xgb_proba)\n",
    "\n",
    "plt.figure(figsize=(10, 6))\n",
    "plot_roc_curve(fpr_lr, tpr_lr, label=f'Logistic Regression (AUC = {auc_roc_lr:.2f})')\n",
    "plot_roc_curve(fpr_rf, tpr_rf, label=f'Random Forest (AUC = {auc_roc_rf:.2f})')\n",
    "plot_roc_curve(fpr_xgb, tpr_xgb, label=f'XGBoost (AUC = {auc_roc_xgb:.2f})')\n",
    "plt.legend(loc=\"lower right\")\n",
    "plt.show()"
   ]
  },
  {
   "cell_type": "markdown",
   "id": "a6ae160b",
   "metadata": {},
   "source": [
    "En este caso el modelo que mejor se ajustó de acuerdo con el valor AUC-ROC fue el de Regressión Logística con un valor de 0.81, despues el modelo de Random Forest con un valor de 0.7 y el modelo con menor ajuste fue el XGBoost con un AUC-ROC de 0.68."
   ]
  },
  {
   "cell_type": "markdown",
   "id": "c55dc3ea",
   "metadata": {},
   "source": [
    "### Predicciones"
   ]
  },
  {
   "cell_type": "code",
   "execution_count": 94,
   "id": "730b1573",
   "metadata": {},
   "outputs": [],
   "source": [
    "target_lr_df = model_lr_pipeline.predict(features_test)\n",
    "\n",
    "target_rf_df = model_rfc.predict(features_test_encoded)\n",
    "\n",
    "target_xgb_df = model_xgb.predict(features_test)"
   ]
  },
  {
   "cell_type": "code",
   "execution_count": 95,
   "id": "7861d226",
   "metadata": {},
   "outputs": [],
   "source": [
    "results = pd.DataFrame({\n",
    "    'Actual': target_test.reset_index(drop=True),\n",
    "    'Logistic Regression': target_lr_proba,\n",
    "    'Random Forest': target_rf_proba,\n",
    "    'XGBoost': target_xgb_proba\n",
    "})"
   ]
  },
  {
   "cell_type": "code",
   "execution_count": 96,
   "id": "f7c9db88",
   "metadata": {},
   "outputs": [
    {
     "name": "stdout",
     "output_type": "stream",
     "text": [
      "   Actual  Logistic Regression  Random Forest  XGBoost\n",
      "0     1.0             0.336738              0        0\n",
      "1     1.0             0.554625              1        1\n",
      "2     0.0             0.350631              0        0\n",
      "3     0.0             0.281809              0        0\n",
      "4     0.0             0.562491              0        1\n"
     ]
    }
   ],
   "source": [
    "print(results.head())"
   ]
  },
  {
   "cell_type": "code",
   "execution_count": 97,
   "id": "eed96ebc",
   "metadata": {},
   "outputs": [
    {
     "data": {
      "image/png": "[encoded data removed]",
      "text/plain": [
       "<Figure size 1200x600 with 3 Axes>"
      ]
     },
     "metadata": {},
     "output_type": "display_data"
    }
   ],
   "source": [
    "plt.figure(figsize=(12, 6))\n",
    "\n",
    "# Gráfico para Regresión Logística\n",
    "plt.subplot(1, 3, 1)\n",
    "sns.scatterplot(x=results.index, y='Actual', data=results, color='blue', label='Actual')\n",
    "sns.scatterplot(x=results.index, y='Logistic Regression', data=results, color='red', label='Predicted')\n",
    "plt.title('Logistic Regression: Actual vs Predicted')\n",
    "plt.xlabel('Índice')\n",
    "plt.ylabel('Churn')\n",
    "plt.legend()\n",
    "\n",
    "# Gráfico para Random Forest\n",
    "plt.subplot(1, 3, 2)\n",
    "sns.scatterplot(x=results.index, y='Actual', data=results, color='blue', label='Actual')\n",
    "sns.scatterplot(x=results.index, y='Random Forest', data=results, color='green', label='Predicted')\n",
    "plt.title('Random Forest: Actual vs Predicted')\n",
    "plt.xlabel('Índice')\n",
    "plt.ylabel('Churn')\n",
    "plt.legend()\n",
    "\n",
    "# Gráfico para XGBoost\n",
    "plt.subplot(1, 3, 3)\n",
    "sns.scatterplot(x=results.index, y='Actual', data=results, color='blue', label='Actual')\n",
    "sns.scatterplot(x=results.index, y='XGBoost', data=results, color='purple', label='Predicted')\n",
    "plt.title('XGBoost: Actual vs Predicted')\n",
    "plt.xlabel('Índice')\n",
    "plt.ylabel('Churn')\n",
    "plt.legend()\n",
    "\n",
    "plt.tight_layout()\n",
    "plt.show()\n"
   ]
  },
  {
   "cell_type": "markdown",
   "id": "1971a63e",
   "metadata": {},
   "source": [
    "### Conclusiones"
   ]
  },
  {
   "cell_type": "markdown",
   "id": "7de83ce8",
   "metadata": {},
   "source": [
    "La información para resolver este problema se encuentra en cuatro dataframes separados, por lo que fue necesario revisar individualmente la calidad y cantidad de la información, así como datos ausentes, datos duplicados y su formato. \n",
    "\n",
    "Asímismo fue necesario unir los dataframes con la columna que tuvieran en común, verificar la columna objetivo y las columnas que podríamos llamar como \"ruido\" que podrían impedir que funcionaran adecuadamente los modelos para eliminarlas.\n",
    "\n",
    "Un reto importante fue rellenar los datos ausentes pues faltaban datos tanto en columnas categóticas como numéricas lo cual complicaba su manejo, sin embargo, existen herramientas muy útiles como el vecino más cercano, o rellenar con la media, mediana, o moda que dependiendo puede ser muy acertado usar.\n",
    "\n",
    "La estandarización, escalado o codificado de datos fue muy importante para poder procesarlos, por ello, convertir los datos categóricos en numéricos para su análisis fue fundamental.\n",
    "\n",
    "También fue necesario visualizar de qué forma se comportan los datos, por ello elegí columnas que describen a lo largo de tiempo el comportamiento de los usuarios, la proporción de usuarios que desertan y si existía alguna diferencia entre usuarios masculinos o femeninos. \n",
    "\n",
    "Otro punto funamental es determinar el grado de correlacion entre las caracteristicas y el objetivo, eso fue resuelto con un mapa de correlacion con gradiente de temperatura para eliminar las caracteristicas que no impactan en el objetivo.\n",
    "\n",
    "Con lo anterior resuelto, fue posible entrenar los modelos, uno simple (regresion logistica), uno complejo(ramdom forest classifier) y uno simple pero eficaz (XGBM Classifier) para poder abordar el problema de clasificación.\n",
    "\n",
    "Finalmente, el modelo que mejor se ajustó a las predicciones reales fue el modelo de Regresion Logistica tomando en cuenta métricas como accuracy y AUC-ROC que fueron mayores en la regresión, no tan lejos del bosque aleatr"
   ]
  }
 ],
 "metadata": {
  "kernelspec": {
   "display_name": "Python 3 (ipykernel)",
   "language": "python",
   "name": "python3"
  },
  "language_info": {
   "codemirror_mode": {
    "name": "ipython",
    "version": 3
   },
   "file_extension": ".py",
   "mimetype": "text/x-python",
   "name": "python",
   "nbconvert_exporter": "python",
   "pygments_lexer": "ipython3",
   "version": "3.11.7"
  },
  "toc": {
   "base_numbering": 1,
   "nav_menu": {},
   "number_sections": true,
   "sideBar": true,
   "skip_h1_title": true,
   "title_cell": "Table of Contents",
   "title_sidebar": "Contents",
   "toc_cell": false,
   "toc_position": {},
   "toc_section_display": true,
   "toc_window_display": false
  }
 },
 "nbformat": 4,
 "nbformat_minor": 5
}
